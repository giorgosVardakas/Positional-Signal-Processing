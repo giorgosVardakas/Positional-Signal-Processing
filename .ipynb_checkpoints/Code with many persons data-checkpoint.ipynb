{
 "cells": [
  {
   "cell_type": "markdown",
   "metadata": {},
   "source": [
    "# Import Libraries\n"
   ]
  },
  {
   "cell_type": "code",
   "execution_count": 1,
   "metadata": {},
   "outputs": [],
   "source": [
    "import numpy as np\n",
    "import pandas as pd\n",
    "\n",
    "from seglearn.pipe import Pype\n",
    "from seglearn.transform import FeatureRep, Segment\n",
    "#from seglearn.feature_functions import mean, var, std, skew, kurt\n",
    "from seglearn.feature_functions import base_features, all_features, hudgins_features, emg_features\n",
    "\n",
    "from sklearn.ensemble import RandomForestClassifier\n",
    "from sklearn.svm import SVC\n",
    "from sklearn.decomposition import PCA\n",
    "from sklearn.preprocessing import StandardScaler\n",
    "from sklearn.model_selection import GridSearchCV, GroupKFold, cross_validate\n",
    "from sklearn.metrics import confusion_matrix, plot_confusion_matrix, accuracy_score\n",
    "\n",
    "import matplotlib.pyplot as plt\n",
    "\n",
    "import random\n",
    "import itertools\n",
    "\n",
    "from joblib import dump, load\n",
    "#%matplotlib notebook"
   ]
  },
  {
   "cell_type": "markdown",
   "metadata": {},
   "source": [
    "# Importing the Data"
   ]
  },
  {
   "cell_type": "code",
   "execution_count": 2,
   "metadata": {},
   "outputs": [],
   "source": [
    "FB_data_path = \"./Data/Fanis_Balaskas/accel_gyro.csv\"\n",
    "GV_data_path = \"./Data/George_Vardakas/accel_gyro_Geo.csv\"\n",
    "ΤT_data_path = \"./Data/George_Vardakas/accel_gyro_Ted.csv\"\n",
    "GP_data_path = \"./Data/George_Vardakas/accel_gyro_Gregory.csv\"\n",
    "BRO_data_path = \"./Data/George_Vardakas/accel_gyro_Bro.csv\"\n",
    "VD_data_path = \"./Data/Vagelis_Dimoulis/accel_gyro.csv\"\n",
    "\n",
    "\n",
    "df_FB_accel_gyro = pd.read_csv(FB_data_path)\n",
    "df_GV_accel_gyro = pd.read_csv(GV_data_path)\n",
    "df_TT_accel_gyro = pd.read_csv(ΤT_data_path)\n",
    "df_GP_accel_gyro = pd.read_csv(GP_data_path)\n",
    "df_BRO_accel_gyro = pd.read_csv(BRO_data_path)\n",
    "df_VD_accel_gyro = pd.read_csv(VD_data_path)"
   ]
  },
  {
   "cell_type": "code",
   "execution_count": 3,
   "metadata": {},
   "outputs": [],
   "source": [
    "# Den exw ta ms gia na spasw to shma se kathgories\n",
    "datetime_format = \"%Y-%m-%d %H:%M:%S.%f\"\n",
    "df_FB_accel_gyro[\"TIMESTAMP\"] = pd.to_datetime(df_FB_accel_gyro[\"TIMESTAMP\"])#, format=datetime_format)\n",
    "df_GV_accel_gyro[\"TIMESTAMP\"] = pd.to_datetime(df_GV_accel_gyro[\"TIMESTAMP\"])#, format=datetime_format)\n",
    "df_TT_accel_gyro[\"TIMESTAMP\"] = pd.to_datetime(df_TT_accel_gyro[\"TIMESTAMP\"])\n",
    "df_GP_accel_gyro[\"TIMESTAMP\"] = pd.to_datetime(df_GP_accel_gyro[\"TIMESTAMP\"])\n",
    "df_BRO_accel_gyro[\"TIMESTAMP\"] = pd.to_datetime(df_BRO_accel_gyro[\"TIMESTAMP\"])\n",
    "df_VD_accel_gyro[\"TIMESTAMP\"] = pd.to_datetime(df_VD_accel_gyro[\"TIMESTAMP\"])"
   ]
  },
  {
   "cell_type": "markdown",
   "metadata": {},
   "source": [
    "## Find when activity changes"
   ]
  },
  {
   "cell_type": "code",
   "execution_count": 4,
   "metadata": {},
   "outputs": [],
   "source": [
    "# Sampling frequency of accelerometer and gyroscope (10 Hz)\n",
    "sampling_frequency = df_FB_accel_gyro.loc[1, \"TIMESTAMP\"] - df_FB_accel_gyro.loc[0, \"TIMESTAMP\"]\n",
    "\n",
    "# Finding the indexs where the samples differ more than sampling frequency\n",
    "df_FB_activity_cutoff = df_FB_accel_gyro.loc[df_FB_accel_gyro[\"TIMESTAMP\"] - df_FB_accel_gyro[\"TIMESTAMP\"].shift() > sampling_frequency]\n",
    "df_GV_activity_cutoff = df_GV_accel_gyro.loc[df_GV_accel_gyro[\"TIMESTAMP\"] - df_GV_accel_gyro[\"TIMESTAMP\"].shift() > sampling_frequency]\n",
    "df_TT_activity_cutoff = df_TT_accel_gyro.loc[df_TT_accel_gyro[\"TIMESTAMP\"] - df_TT_accel_gyro[\"TIMESTAMP\"].shift() > sampling_frequency]\n",
    "df_GP_activity_cutoff = df_GP_accel_gyro.loc[df_GP_accel_gyro[\"TIMESTAMP\"] - df_GP_accel_gyro[\"TIMESTAMP\"].shift() > sampling_frequency]\n",
    "df_BRO_activity_cutoff = df_BRO_accel_gyro.loc[df_BRO_accel_gyro[\"TIMESTAMP\"] - df_BRO_accel_gyro[\"TIMESTAMP\"].shift() > sampling_frequency]\n",
    "df_VD_activity_cutoff = df_VD_accel_gyro.loc[df_VD_accel_gyro[\"TIMESTAMP\"] - df_VD_accel_gyro[\"TIMESTAMP\"].shift() > sampling_frequency]"
   ]
  },
  {
   "cell_type": "code",
   "execution_count": 5,
   "metadata": {},
   "outputs": [],
   "source": [
    "#ax = df_GV_accel_gyro[[\"ACTIVITY_ID\", \"ACCEL_X\", \"ACCEL_Y\", \"ACCEL_Z\"]].plot(figsize = (15, 8))\n",
    "#ax.vlines(df_GV_activity_cutoff.index, ymin=-20, ymax=120)"
   ]
  },
  {
   "cell_type": "code",
   "execution_count": 6,
   "metadata": {},
   "outputs": [],
   "source": [
    "#ax = df_FB_accel_gyro[[\"ACTIVITY_ID\", \"ACCEL_X\", \"ACCEL_Y\", \"ACCEL_Z\"]].plot(figsize = (15, 8))\n",
    "#ax.vlines(df_FB_activity_cutoff.index, ymin=-20, ymax=120)"
   ]
  },
  {
   "cell_type": "code",
   "execution_count": 7,
   "metadata": {},
   "outputs": [],
   "source": [
    "#ax = df_VD_accel_gyro[[\"ACTIVITY_ID\", \"ACCEL_X\", \"ACCEL_Y\", \"ACCEL_Z\"]].plot(figsize = (15, 8))\n",
    "#ax.vlines(df_VD_activity_cutoff.index, ymin=-20, ymax=120)"
   ]
  },
  {
   "cell_type": "code",
   "execution_count": 8,
   "metadata": {},
   "outputs": [],
   "source": [
    "#ax = df_TT_accel_gyro[[\"ACTIVITY_ID\", \"ACCEL_X\", \"ACCEL_Y\", \"ACCEL_Z\"]].plot(figsize = (15, 8))\n",
    "#ax.vlines(df_TT_activity_cutoff.index, ymin=-20, ymax=120)"
   ]
  },
  {
   "cell_type": "code",
   "execution_count": 9,
   "metadata": {},
   "outputs": [],
   "source": [
    "#ax = df_GP_accel_gyro[[\"ACTIVITY_ID\", \"ACCEL_X\", \"ACCEL_Y\", \"ACCEL_Z\"]].plot(figsize = (15, 8))\n",
    "#ax.vlines(df_GP_activity_cutoff.index, ymin=-20, ymax=120)"
   ]
  },
  {
   "cell_type": "code",
   "execution_count": 10,
   "metadata": {},
   "outputs": [],
   "source": [
    "#ax = df_BRO_accel_gyro[[\"ACTIVITY_ID\", \"ACCEL_X\", \"ACCEL_Y\", \"ACCEL_Z\"]].plot(figsize = (15, 8))\n",
    "#ax.vlines(df_BRO_activity_cutoff.index, ymin=-20, ymax=120)"
   ]
  },
  {
   "cell_type": "markdown",
   "metadata": {},
   "source": [
    "## Making one dataframe for all users"
   ]
  },
  {
   "cell_type": "code",
   "execution_count": 11,
   "metadata": {},
   "outputs": [],
   "source": [
    "df_FB_accel_gyro[\"USER_ID\"] = 0\n",
    "df_GV_accel_gyro[\"USER_ID\"] = 1\n",
    "df_VD_accel_gyro[\"USER_ID\"] = 2\n",
    "df_TT_accel_gyro[\"USER_ID\"] = 3\n",
    "df_GP_accel_gyro[\"USER_ID\"] = 4\n",
    "df_BRO_accel_gyro[\"USER_ID\"] = 5"
   ]
  },
  {
   "cell_type": "code",
   "execution_count": 12,
   "metadata": {},
   "outputs": [],
   "source": [
    "df_accel_gyro = df_FB_accel_gyro.append(df_GV_accel_gyro)\n",
    "df_accel_gyro = df_accel_gyro.append(df_VD_accel_gyro)\n",
    "df_accel_gyro = df_accel_gyro.append(df_TT_accel_gyro)\n",
    "df_accel_gyro = df_accel_gyro.append(df_GP_accel_gyro)\n",
    "df_accel_gyro = df_accel_gyro.append(df_BRO_accel_gyro)\n",
    "df_accel_gyro.reset_index(inplace=True)\n",
    "del df_FB_accel_gyro, df_GV_accel_gyro, df_VD_accel_gyro, df_TT_accel_gyro, df_GP_accel_gyro"
   ]
  },
  {
   "cell_type": "code",
   "execution_count": 13,
   "metadata": {},
   "outputs": [],
   "source": [
    "sampling_frequency = df_accel_gyro.loc[1, \"TIMESTAMP\"] - df_accel_gyro.loc[0, \"TIMESTAMP\"]\n",
    "# Finding the indexs where the samples differ more than sampling frequency\n",
    "activities = df_accel_gyro.loc[df_accel_gyro['TIMESTAMP'] - df_accel_gyro['TIMESTAMP'].shift() > sampling_frequency]\n",
    "# To include the last activity to the end\n",
    "activities = activities.append(df_accel_gyro.iloc[-1])\n",
    "\n",
    "# Constracting the data exactly how the seglearn needs it\n",
    "# Data must be list(np.arrays)\n",
    "# list() -> single multivariate time series\n",
    "# X[0].shape -> (n_samples, n_variables)\n",
    "# n_samples is how many data points we have in time we have\n",
    "# n_variables is how many sensors we have\n",
    "\n",
    "# I do not include the moment where activity changes\n",
    "X = list()\n",
    "y = list()\n",
    "groups = list()\n",
    "low_index = 0\n",
    "\n",
    "# Use this to throw some samples or not?\n",
    "samples_to_throw = 10\n",
    "\n",
    "for i, high_index in enumerate(activities.index):\n",
    "    low_index += samples_to_throw\n",
    "    high_index -= samples_to_throw\n",
    "    data = df_accel_gyro[[\"ACCEL_X\",\"ACCEL_Y\", \"ACCEL_Z\", \"GYRO_X\", \"GYRO_Y\", \"GYRO_Z\"]].iloc[low_index : high_index]\n",
    "    data = data.to_numpy()\n",
    "    labels = df_accel_gyro[\"ACTIVITY_ID\"].iloc[low_index]\n",
    "    user_id = df_accel_gyro[\"USER_ID\"].iloc[low_index]\n",
    "    \n",
    "    X.append(data)\n",
    "    y.append(labels)\n",
    "    groups.append(user_id)\n",
    "    \n",
    "    #print(low_index, mid_index, high_index)\n",
    "    low_index = high_index"
   ]
  },
  {
   "cell_type": "code",
   "execution_count": 14,
   "metadata": {},
   "outputs": [],
   "source": [
    "#ax = df_accel_gyro[[\"ACCEL_X\",\"ACCEL_Y\", \"ACCEL_Z\", \"GYRO_X\", \"GYRO_Y\", \"GYRO_Z\", \"ACTIVITY_ID\", \"USER_ID\"]].plot(figsize=(15,8))\n",
    "#ax.vlines(activities.index, ymin=-20, ymax=120)"
   ]
  },
  {
   "cell_type": "code",
   "execution_count": 15,
   "metadata": {},
   "outputs": [
    {
     "data": {
      "text/plain": [
       "index                               34799\n",
       "TIMESTAMP      2021-01-27 22:59:23.771000\n",
       "ACCEL_X                          -9.20718\n",
       "ACCEL_Y                          -2.10337\n",
       "ACCEL_Z                            2.3823\n",
       "GYRO_X                         -0.0138483\n",
       "GYRO_Y                                  0\n",
       "GYRO_Z                         -0.0106525\n",
       "ACTIVITY_ID                           103\n",
       "USER_ID                                 5\n",
       "Name: 460799, dtype: object"
      ]
     },
     "execution_count": 15,
     "metadata": {},
     "output_type": "execute_result"
    }
   ],
   "source": [
    "df_accel_gyro.iloc[-1]"
   ]
  },
  {
   "cell_type": "markdown",
   "metadata": {},
   "source": [
    "# Defining the features and the pipeline"
   ]
  },
  {
   "cell_type": "code",
   "execution_count": 16,
   "metadata": {},
   "outputs": [
    {
     "name": "stderr",
     "output_type": "stream",
     "text": [
      "/home/geo/.local/lib/python3.6/site-packages/sklearn/utils/validation.py:70: FutureWarning: Pass memory=None as keyword args. From version 0.25 passing these as positional arguments will result in an error\n",
      "  FutureWarning)\n",
      "/home/geo/.local/lib/python3.6/site-packages/sklearn/base.py:213: FutureWarning: From version 0.24, get_params will raise an AttributeError if a parameter cannot be retrieved as an instance attribute. Previously it would return None.\n",
      "  FutureWarning)\n"
     ]
    }
   ],
   "source": [
    "pipeline = Pype([\n",
    "    (\"segment\", Segment()),\n",
    "    # 120 features are created\n",
    "    (\"features\", FeatureRep(features = {**base_features(), **emg_features()})),\n",
    "    #(\"features\", FeatureRep(features = base_features())),\n",
    "    (\"scaler\", StandardScaler()),\n",
    "    (\"pca\", PCA()),\n",
    "    (\"rf\", RandomForestClassifier())\n",
    "], memory=None)"
   ]
  },
  {
   "cell_type": "markdown",
   "metadata": {},
   "source": [
    "## Hyperparameter tuning"
   ]
  },
  {
   "cell_type": "code",
   "execution_count": 17,
   "metadata": {
    "scrolled": true
   },
   "outputs": [
    {
     "name": "stderr",
     "output_type": "stream",
     "text": [
      "/home/geo/.local/lib/python3.6/site-packages/sklearn/utils/validation.py:70: FutureWarning: Pass memory=None as keyword args. From version 0.25 passing these as positional arguments will result in an error\n",
      "  FutureWarning)\n",
      "/home/geo/.local/lib/python3.6/site-packages/sklearn/base.py:213: FutureWarning: From version 0.24, get_params will raise an AttributeError if a parameter cannot be retrieved as an instance attribute. Previously it would return None.\n",
      "  FutureWarning)\n",
      "/home/geo/.local/lib/python3.6/site-packages/seglearn/transform.py:238: VisibleDeprecationWarning: Creating an ndarray from ragged nested sequences (which is a list-or-tuple of lists-or-tuples-or ndarrays with different lengths or shapes) is deprecated. If you meant to do this, you must specify 'dtype=object' when creating the ndarray\n",
      "  for i in np.arange(N)])\n"
     ]
    },
    {
     "name": "stdout",
     "output_type": "stream",
     "text": [
      "0.7291101832999011\n",
      "Pype(steps=[('segment', Segment(overlap=0.2, width=300)),\n",
      "            ('features',\n",
      "             FeatureRep(features={'abs_energy': <function abs_energy at 0x7f1afb06eae8>,\n",
      "                                  'emg_var': <function emg_var at 0x7f1afb0709d8>,\n",
      "                                  'integrated_emg': <function abs_sum at 0x7f1afb06ea60>,\n",
      "                                  'kurt': <function kurt at 0x7f1afb06ef28>,\n",
      "                                  'max': <function maximum at 0x7f1afb06ee18>,\n",
      "                                  'mean': <function mean at 0x7f1afb06e7b8>,\n",
      "                                  '...\n",
      "                                  'slope_sign_changes': slope_sign_changes(threshold=0),\n",
      "                                  'std': <function std at 0x7f1afb06eb70>,\n",
      "                                  'var': <function var at 0x7f1afb06ebf8>,\n",
      "                                  'waveform_length': <function waveform_length at 0x7f1afb070510>,\n",
      "                                  'willison_amplitude': willison_amplitude(threshold=0),\n",
      "                                  'zero_crossings': zero_crossing(threshold=0)})),\n",
      "            ('scaler', StandardScaler()), ('pca', PCA(n_components=80)),\n",
      "            ('rf', RandomForestClassifier(n_estimators=35))])\n"
     ]
    }
   ],
   "source": [
    "splitter = GroupKFold(n_splits=6)\n",
    "cv = splitter.split(X, y, groups)\n",
    "\n",
    "parameters_grid = {\"segment__width\": list(range(250, 400, 50)),\n",
    "                   \"segment__overlap\": np.arange(0.1, 0.3, 0.1).tolist(),\n",
    "                   \"pca__n_components\" : [70, 80, 90], #[100, 110, 120],\n",
    "                   \"rf__n_estimators\": range(20, 45, 5)\n",
    "                  }\n",
    "\n",
    "# scoring does not work for some reason\n",
    "# it maybe always say the big category for each fragment\n",
    "# scoring=\"accuracy\", maybe because random forest has out of bag error \n",
    "grid_search = GridSearchCV(pipeline, parameters_grid, cv=cv, n_jobs=-1)\n",
    "grid_search.fit(X, y)\n",
    "\n",
    "print(grid_search.best_score_)\n",
    "print(grid_search.best_estimator_)"
   ]
  },
  {
   "cell_type": "markdown",
   "metadata": {},
   "source": [
    "## Cross validation on the best model"
   ]
  },
  {
   "cell_type": "code",
   "execution_count": 18,
   "metadata": {},
   "outputs": [
    {
     "name": "stderr",
     "output_type": "stream",
     "text": [
      "/home/geo/.local/lib/python3.6/site-packages/sklearn/utils/validation.py:70: FutureWarning: Pass memory=None as keyword args. From version 0.25 passing these as positional arguments will result in an error\n",
      "  FutureWarning)\n",
      "/home/geo/.local/lib/python3.6/site-packages/sklearn/base.py:213: FutureWarning: From version 0.24, get_params will raise an AttributeError if a parameter cannot be retrieved as an instance attribute. Previously it would return None.\n",
      "  FutureWarning)\n"
     ]
    },
    {
     "data": {
      "text/plain": [
       "{'fit_time': array([1.02560592, 0.97398257, 0.98896384, 1.18675256, 1.13946199,\n",
       "        1.07667351]),\n",
       " 'score_time': array([0.13845968, 0.12918591, 0.15867758, 0.0320394 , 0.03854394,\n",
       "        0.07589316]),\n",
       " 'test_score': array([0.75418994, 0.53023256, 0.84339623, 0.61538462, 0.81021898,\n",
       "        0.59433962])}"
      ]
     },
     "execution_count": 18,
     "metadata": {},
     "output_type": "execute_result"
    }
   ],
   "source": [
    "best_estimator = grid_search.best_estimator_\n",
    "\n",
    "cv = splitter.split(X, y, groups)\n",
    "\n",
    "results = cross_validate(best_estimator, X, y, cv=cv, n_jobs=-1)\n",
    "results"
   ]
  },
  {
   "cell_type": "code",
   "execution_count": 19,
   "metadata": {},
   "outputs": [],
   "source": [
    "def plot_confusion_matrix(cm, classes, fold, normalize=True, cmap=plt.cm.Blues):\n",
    "    title = \"Confusion matrix \" + str(fold)\n",
    "    if normalize:\n",
    "        cm = cm.astype(\"float\") / cm.sum(axis=1)[:, np.newaxis]\n",
    "        \n",
    "    plt.figure(figsize = (15, 8))\n",
    "    plt.imshow(cm, interpolation=\"nearest\", cmap=cmap)\n",
    "    plt.colorbar()\n",
    "    tick_marks = np.arange(len(classes))\n",
    "    plt.xticks(tick_marks, classes, rotation=45)\n",
    "    plt.yticks(tick_marks, classes)\n",
    "    fmt = \".2f\" if normalize else \"d\"\n",
    "    thresh = cm.max() / 2.\n",
    "    for i, j in itertools.product(range(cm.shape[0]), range(cm.shape[1])):\n",
    "        plt.text(j, i, format(cm[i, j], fmt), horizontalalignment=\"center\", color=\"white\" if cm[i, j] > thresh else \"black\")\n",
    "    \n",
    "    plt.title(title, fontsize=15)\n",
    "    plt.ylabel(\"True label\", fontsize=15)\n",
    "    plt.xlabel(\"Predicted label\", fontsize=15)\n",
    "    plt.tight_layout()\n",
    "    #plt.savefig(graphs_path + title, facecolor = \"#E0E0E0\")\n",
    "    plt.show()"
   ]
  },
  {
   "cell_type": "markdown",
   "metadata": {},
   "source": [
    "## Creating the confusion matrix for each fold"
   ]
  },
  {
   "cell_type": "code",
   "execution_count": 20,
   "metadata": {},
   "outputs": [
    {
     "name": "stderr",
     "output_type": "stream",
     "text": [
      "/home/geo/.local/lib/python3.6/site-packages/numpy/core/_asarray.py:83: VisibleDeprecationWarning: Creating an ndarray from ragged nested sequences (which is a list-or-tuple of lists-or-tuples-or ndarrays with different lengths or shapes) is deprecated. If you meant to do this, you must specify 'dtype=object' when creating the ndarray\n",
      "  return array(a, dtype, copy=False, order=order)\n",
      "/home/geo/.local/lib/python3.6/site-packages/seglearn/transform.py:238: VisibleDeprecationWarning: Creating an ndarray from ragged nested sequences (which is a list-or-tuple of lists-or-tuples-or ndarrays with different lengths or shapes) is deprecated. If you meant to do this, you must specify 'dtype=object' when creating the ndarray\n",
      "  for i in np.arange(N)])\n"
     ]
    },
    {
     "name": "stdout",
     "output_type": "stream",
     "text": [
      "(590, 6)\n"
     ]
    },
    {
     "name": "stderr",
     "output_type": "stream",
     "text": [
      "/home/geo/.local/lib/python3.6/site-packages/seglearn/transform.py:238: VisibleDeprecationWarning: Creating an ndarray from ragged nested sequences (which is a list-or-tuple of lists-or-tuples-or ndarrays with different lengths or shapes) is deprecated. If you meant to do this, you must specify 'dtype=object' when creating the ndarray\n",
      "  for i in np.arange(N)])\n",
      "/home/geo/.local/lib/python3.6/site-packages/seglearn/transform.py:238: VisibleDeprecationWarning: Creating an ndarray from ragged nested sequences (which is a list-or-tuple of lists-or-tuples-or ndarrays with different lengths or shapes) is deprecated. If you meant to do this, you must specify 'dtype=object' when creating the ndarray\n",
      "  for i in np.arange(N)])\n"
     ]
    },
    {
     "data": {
      "image/png": "[encoded data removed]",
      "text/plain": [
       "<Figure size 1080x576 with 2 Axes>"
      ]
     },
     "metadata": {
      "needs_background": "light"
     },
     "output_type": "display_data"
    },
    {
     "name": "stdout",
     "output_type": "stream",
     "text": [
      "0.770949720670391\n",
      "[[60  1  0  1  0  0  0  0]\n",
      " [ 1 75  0  0  3  2  0 22]\n",
      " [ 0  0 65  0  1  0  0  0]\n",
      " [ 8  0  0  1  0  0  0  0]\n",
      " [ 1  9  0  0  0  6  0  6]\n",
      " [ 0  5  0  0  0 27  0  0]\n",
      " [ 0  0  0  0  0  0 15  0]\n",
      " [ 1  7  2  0  5  1  0 33]]\n",
      "(3590, 6)\n"
     ]
    },
    {
     "name": "stderr",
     "output_type": "stream",
     "text": [
      "/home/geo/.local/lib/python3.6/site-packages/numpy/core/_asarray.py:83: VisibleDeprecationWarning: Creating an ndarray from ragged nested sequences (which is a list-or-tuple of lists-or-tuples-or ndarrays with different lengths or shapes) is deprecated. If you meant to do this, you must specify 'dtype=object' when creating the ndarray\n",
      "  return array(a, dtype, copy=False, order=order)\n",
      "/home/geo/.local/lib/python3.6/site-packages/seglearn/transform.py:238: VisibleDeprecationWarning: Creating an ndarray from ragged nested sequences (which is a list-or-tuple of lists-or-tuples-or ndarrays with different lengths or shapes) is deprecated. If you meant to do this, you must specify 'dtype=object' when creating the ndarray\n",
      "  for i in np.arange(N)])\n",
      "/home/geo/.local/lib/python3.6/site-packages/seglearn/transform.py:238: VisibleDeprecationWarning: Creating an ndarray from ragged nested sequences (which is a list-or-tuple of lists-or-tuples-or ndarrays with different lengths or shapes) is deprecated. If you meant to do this, you must specify 'dtype=object' when creating the ndarray\n",
      "  for i in np.arange(N)])\n",
      "/home/geo/.local/lib/python3.6/site-packages/seglearn/transform.py:238: VisibleDeprecationWarning: Creating an ndarray from ragged nested sequences (which is a list-or-tuple of lists-or-tuples-or ndarrays with different lengths or shapes) is deprecated. If you meant to do this, you must specify 'dtype=object' when creating the ndarray\n",
      "  for i in np.arange(N)])\n"
     ]
    },
    {
     "data": {
      "image/png": "[encoded data removed]",
      "text/plain": [
       "<Figure size 1080x576 with 2 Axes>"
      ]
     },
     "metadata": {
      "needs_background": "light"
     },
     "output_type": "display_data"
    },
    {
     "name": "stdout",
     "output_type": "stream",
     "text": [
      "0.5348837209302325\n",
      "[[ 44   0   6  15  10   0   2   0]\n",
      " [  8   0   3   7   3   0   0   0]\n",
      " [  6   0   9  24   2   0  27   1]\n",
      " [ 14   0  12  23   1   0   3   0]\n",
      " [ 11   0   1   0  23   0   3   0]\n",
      " [  2   1   1   2   0 116   4   0]\n",
      " [ 10   0   0   9   3   0  15   0]\n",
      " [  0   0   0   2   0   1   6   0]]\n",
      "(6580, 6)\n"
     ]
    },
    {
     "name": "stderr",
     "output_type": "stream",
     "text": [
      "/home/geo/.local/lib/python3.6/site-packages/numpy/core/_asarray.py:83: VisibleDeprecationWarning: Creating an ndarray from ragged nested sequences (which is a list-or-tuple of lists-or-tuples-or ndarrays with different lengths or shapes) is deprecated. If you meant to do this, you must specify 'dtype=object' when creating the ndarray\n",
      "  return array(a, dtype, copy=False, order=order)\n",
      "/home/geo/.local/lib/python3.6/site-packages/seglearn/transform.py:238: VisibleDeprecationWarning: Creating an ndarray from ragged nested sequences (which is a list-or-tuple of lists-or-tuples-or ndarrays with different lengths or shapes) is deprecated. If you meant to do this, you must specify 'dtype=object' when creating the ndarray\n",
      "  for i in np.arange(N)])\n",
      "/home/geo/.local/lib/python3.6/site-packages/seglearn/transform.py:238: VisibleDeprecationWarning: Creating an ndarray from ragged nested sequences (which is a list-or-tuple of lists-or-tuples-or ndarrays with different lengths or shapes) is deprecated. If you meant to do this, you must specify 'dtype=object' when creating the ndarray\n",
      "  for i in np.arange(N)])\n",
      "/home/geo/.local/lib/python3.6/site-packages/seglearn/transform.py:238: VisibleDeprecationWarning: Creating an ndarray from ragged nested sequences (which is a list-or-tuple of lists-or-tuples-or ndarrays with different lengths or shapes) is deprecated. If you meant to do this, you must specify 'dtype=object' when creating the ndarray\n",
      "  for i in np.arange(N)])\n"
     ]
    },
    {
     "data": {
      "image/png": "[encoded data removed]",
      "text/plain": [
       "<Figure size 1080x576 with 2 Axes>"
      ]
     },
     "metadata": {
      "needs_background": "light"
     },
     "output_type": "display_data"
    },
    {
     "name": "stdout",
     "output_type": "stream",
     "text": [
      "0.7735849056603774\n",
      "[[ 55   7   2   0   0   4   0]\n",
      " [  0  40   0   0   1   0   0]\n",
      " [  3   0  34   0   0   2   0]\n",
      " [  0   0   0   0   0   0   2]\n",
      " [  0  84   0   0 273   0   0]\n",
      " [  2  10   0   0   2   0   0]\n",
      " [  1   0   0   0   0   0   8]]\n",
      "(590, 6)\n"
     ]
    },
    {
     "name": "stderr",
     "output_type": "stream",
     "text": [
      "/home/geo/.local/lib/python3.6/site-packages/numpy/core/_asarray.py:83: VisibleDeprecationWarning: Creating an ndarray from ragged nested sequences (which is a list-or-tuple of lists-or-tuples-or ndarrays with different lengths or shapes) is deprecated. If you meant to do this, you must specify 'dtype=object' when creating the ndarray\n",
      "  return array(a, dtype, copy=False, order=order)\n",
      "/home/geo/.local/lib/python3.6/site-packages/seglearn/transform.py:238: VisibleDeprecationWarning: Creating an ndarray from ragged nested sequences (which is a list-or-tuple of lists-or-tuples-or ndarrays with different lengths or shapes) is deprecated. If you meant to do this, you must specify 'dtype=object' when creating the ndarray\n",
      "  for i in np.arange(N)])\n"
     ]
    },
    {
     "ename": "ValueError",
     "evalue": "n_components=80 must be between 0 and min(n_samples, n_features)=78 with svd_solver='full'",
     "output_type": "error",
     "traceback": [
      "\u001b[0;31m---------------------------------------------------------------------------\u001b[0m",
      "\u001b[0;31mValueError\u001b[0m                                Traceback (most recent call last)",
      "\u001b[0;32m<ipython-input-20-137657e2467a>\u001b[0m in \u001b[0;36m<module>\u001b[0;34m\u001b[0m\n\u001b[1;32m     26\u001b[0m     \u001b[0mprint\u001b[0m\u001b[0;34m(\u001b[0m\u001b[0mx_test\u001b[0m\u001b[0;34m[\u001b[0m\u001b[0;36m0\u001b[0m\u001b[0;34m]\u001b[0m\u001b[0;34m.\u001b[0m\u001b[0mshape\u001b[0m\u001b[0;34m)\u001b[0m\u001b[0;34m\u001b[0m\u001b[0;34m\u001b[0m\u001b[0m\n\u001b[1;32m     27\u001b[0m     \u001b[0;31m# Transforming the test data to fit the model predictions\u001b[0m\u001b[0;34m\u001b[0m\u001b[0;34m\u001b[0m\u001b[0;34m\u001b[0m\u001b[0m\n\u001b[0;32m---> 28\u001b[0;31m     \u001b[0m_\u001b[0m\u001b[0;34m,\u001b[0m \u001b[0my_test_trans\u001b[0m \u001b[0;34m=\u001b[0m \u001b[0mtransform_pipe\u001b[0m\u001b[0;34m.\u001b[0m\u001b[0mfit_transform\u001b[0m\u001b[0;34m(\u001b[0m\u001b[0mx_test\u001b[0m\u001b[0;34m,\u001b[0m \u001b[0my_test\u001b[0m\u001b[0;34m)\u001b[0m\u001b[0;34m\u001b[0m\u001b[0;34m\u001b[0m\u001b[0m\n\u001b[0m\u001b[1;32m     29\u001b[0m \u001b[0;34m\u001b[0m\u001b[0m\n\u001b[1;32m     30\u001b[0m     \u001b[0;31m# Fiting the model\u001b[0m\u001b[0;34m\u001b[0m\u001b[0;34m\u001b[0m\u001b[0;34m\u001b[0m\u001b[0m\n",
      "\u001b[0;32m~/.local/lib/python3.6/site-packages/seglearn/pipe.py\u001b[0m in \u001b[0;36mfit_transform\u001b[0;34m(self, X, y, **fit_params)\u001b[0m\n\u001b[1;32m    207\u001b[0m         \u001b[0;32melse\u001b[0m\u001b[0;34m:\u001b[0m\u001b[0;34m\u001b[0m\u001b[0;34m\u001b[0m\u001b[0m\n\u001b[1;32m    208\u001b[0m             \u001b[0;32mif\u001b[0m \u001b[0mhasattr\u001b[0m\u001b[0;34m(\u001b[0m\u001b[0mself\u001b[0m\u001b[0;34m.\u001b[0m\u001b[0m_final_estimator\u001b[0m\u001b[0;34m,\u001b[0m \u001b[0;34m'fit_transform'\u001b[0m\u001b[0;34m)\u001b[0m\u001b[0;34m:\u001b[0m\u001b[0;34m\u001b[0m\u001b[0;34m\u001b[0m\u001b[0m\n\u001b[0;32m--> 209\u001b[0;31m                 \u001b[0mXt\u001b[0m \u001b[0;34m=\u001b[0m \u001b[0mself\u001b[0m\u001b[0;34m.\u001b[0m\u001b[0m_final_estimator\u001b[0m\u001b[0;34m.\u001b[0m\u001b[0mfit_transform\u001b[0m\u001b[0;34m(\u001b[0m\u001b[0mXt\u001b[0m\u001b[0;34m,\u001b[0m \u001b[0myt\u001b[0m\u001b[0;34m)\u001b[0m\u001b[0;34m\u001b[0m\u001b[0;34m\u001b[0m\u001b[0m\n\u001b[0m\u001b[1;32m    210\u001b[0m             \u001b[0;32melse\u001b[0m\u001b[0;34m:\u001b[0m\u001b[0;34m\u001b[0m\u001b[0;34m\u001b[0m\u001b[0m\n\u001b[1;32m    211\u001b[0m                 \u001b[0mself\u001b[0m\u001b[0;34m.\u001b[0m\u001b[0m_final_estimator\u001b[0m\u001b[0;34m.\u001b[0m\u001b[0mfit\u001b[0m\u001b[0;34m(\u001b[0m\u001b[0mXt\u001b[0m\u001b[0;34m,\u001b[0m \u001b[0myt\u001b[0m\u001b[0;34m)\u001b[0m\u001b[0;34m\u001b[0m\u001b[0;34m\u001b[0m\u001b[0m\n",
      "\u001b[0;32m~/.local/lib/python3.6/site-packages/sklearn/decomposition/_pca.py\u001b[0m in \u001b[0;36mfit_transform\u001b[0;34m(self, X, y)\u001b[0m\n\u001b[1;32m    374\u001b[0m         \u001b[0mC\u001b[0m\u001b[0;34m-\u001b[0m\u001b[0mordered\u001b[0m \u001b[0marray\u001b[0m\u001b[0;34m,\u001b[0m \u001b[0muse\u001b[0m \u001b[0;34m'np.ascontiguousarray'\u001b[0m\u001b[0;34m.\u001b[0m\u001b[0;34m\u001b[0m\u001b[0;34m\u001b[0m\u001b[0m\n\u001b[1;32m    375\u001b[0m         \"\"\"\n\u001b[0;32m--> 376\u001b[0;31m         \u001b[0mU\u001b[0m\u001b[0;34m,\u001b[0m \u001b[0mS\u001b[0m\u001b[0;34m,\u001b[0m \u001b[0mV\u001b[0m \u001b[0;34m=\u001b[0m \u001b[0mself\u001b[0m\u001b[0;34m.\u001b[0m\u001b[0m_fit\u001b[0m\u001b[0;34m(\u001b[0m\u001b[0mX\u001b[0m\u001b[0;34m)\u001b[0m\u001b[0;34m\u001b[0m\u001b[0;34m\u001b[0m\u001b[0m\n\u001b[0m\u001b[1;32m    377\u001b[0m         \u001b[0mU\u001b[0m \u001b[0;34m=\u001b[0m \u001b[0mU\u001b[0m\u001b[0;34m[\u001b[0m\u001b[0;34m:\u001b[0m\u001b[0;34m,\u001b[0m \u001b[0;34m:\u001b[0m\u001b[0mself\u001b[0m\u001b[0;34m.\u001b[0m\u001b[0mn_components_\u001b[0m\u001b[0;34m]\u001b[0m\u001b[0;34m\u001b[0m\u001b[0;34m\u001b[0m\u001b[0m\n\u001b[1;32m    378\u001b[0m \u001b[0;34m\u001b[0m\u001b[0m\n",
      "\u001b[0;32m~/.local/lib/python3.6/site-packages/sklearn/decomposition/_pca.py\u001b[0m in \u001b[0;36m_fit\u001b[0;34m(self, X)\u001b[0m\n\u001b[1;32m    421\u001b[0m         \u001b[0;31m# Call different fits for either full or truncated SVD\u001b[0m\u001b[0;34m\u001b[0m\u001b[0;34m\u001b[0m\u001b[0;34m\u001b[0m\u001b[0m\n\u001b[1;32m    422\u001b[0m         \u001b[0;32mif\u001b[0m \u001b[0mself\u001b[0m\u001b[0;34m.\u001b[0m\u001b[0m_fit_svd_solver\u001b[0m \u001b[0;34m==\u001b[0m \u001b[0;34m'full'\u001b[0m\u001b[0;34m:\u001b[0m\u001b[0;34m\u001b[0m\u001b[0;34m\u001b[0m\u001b[0m\n\u001b[0;32m--> 423\u001b[0;31m             \u001b[0;32mreturn\u001b[0m \u001b[0mself\u001b[0m\u001b[0;34m.\u001b[0m\u001b[0m_fit_full\u001b[0m\u001b[0;34m(\u001b[0m\u001b[0mX\u001b[0m\u001b[0;34m,\u001b[0m \u001b[0mn_components\u001b[0m\u001b[0;34m)\u001b[0m\u001b[0;34m\u001b[0m\u001b[0;34m\u001b[0m\u001b[0m\n\u001b[0m\u001b[1;32m    424\u001b[0m         \u001b[0;32melif\u001b[0m \u001b[0mself\u001b[0m\u001b[0;34m.\u001b[0m\u001b[0m_fit_svd_solver\u001b[0m \u001b[0;32min\u001b[0m \u001b[0;34m[\u001b[0m\u001b[0;34m'arpack'\u001b[0m\u001b[0;34m,\u001b[0m \u001b[0;34m'randomized'\u001b[0m\u001b[0;34m]\u001b[0m\u001b[0;34m:\u001b[0m\u001b[0;34m\u001b[0m\u001b[0;34m\u001b[0m\u001b[0m\n\u001b[1;32m    425\u001b[0m             \u001b[0;32mreturn\u001b[0m \u001b[0mself\u001b[0m\u001b[0;34m.\u001b[0m\u001b[0m_fit_truncated\u001b[0m\u001b[0;34m(\u001b[0m\u001b[0mX\u001b[0m\u001b[0;34m,\u001b[0m \u001b[0mn_components\u001b[0m\u001b[0;34m,\u001b[0m \u001b[0mself\u001b[0m\u001b[0;34m.\u001b[0m\u001b[0m_fit_svd_solver\u001b[0m\u001b[0;34m)\u001b[0m\u001b[0;34m\u001b[0m\u001b[0;34m\u001b[0m\u001b[0m\n",
      "\u001b[0;32m~/.local/lib/python3.6/site-packages/sklearn/decomposition/_pca.py\u001b[0m in \u001b[0;36m_fit_full\u001b[0;34m(self, X, n_components)\u001b[0m\n\u001b[1;32m    440\u001b[0m                              \u001b[0;34m\"min(n_samples, n_features)=%r with \"\u001b[0m\u001b[0;34m\u001b[0m\u001b[0;34m\u001b[0m\u001b[0m\n\u001b[1;32m    441\u001b[0m                              \u001b[0;34m\"svd_solver='full'\"\u001b[0m\u001b[0;34m\u001b[0m\u001b[0;34m\u001b[0m\u001b[0m\n\u001b[0;32m--> 442\u001b[0;31m                              % (n_components, min(n_samples, n_features)))\n\u001b[0m\u001b[1;32m    443\u001b[0m         \u001b[0;32melif\u001b[0m \u001b[0mn_components\u001b[0m \u001b[0;34m>=\u001b[0m \u001b[0;36m1\u001b[0m\u001b[0;34m:\u001b[0m\u001b[0;34m\u001b[0m\u001b[0;34m\u001b[0m\u001b[0m\n\u001b[1;32m    444\u001b[0m             \u001b[0;32mif\u001b[0m \u001b[0;32mnot\u001b[0m \u001b[0misinstance\u001b[0m\u001b[0;34m(\u001b[0m\u001b[0mn_components\u001b[0m\u001b[0;34m,\u001b[0m \u001b[0mnumbers\u001b[0m\u001b[0;34m.\u001b[0m\u001b[0mIntegral\u001b[0m\u001b[0;34m)\u001b[0m\u001b[0;34m:\u001b[0m\u001b[0;34m\u001b[0m\u001b[0;34m\u001b[0m\u001b[0m\n",
      "\u001b[0;31mValueError\u001b[0m: n_components=80 must be between 0 and min(n_samples, n_features)=78 with svd_solver='full'"
     ]
    }
   ],
   "source": [
    "# This pipe is only for data transformations\n",
    "transform_pipe = Pype([\n",
    "    (\"segment\", best_estimator.named_steps[\"segment\"]),\n",
    "    (\"features\", best_estimator.named_steps[\"features\"]),\n",
    "    (\"scaler\", best_estimator.named_steps[\"scaler\"]),\n",
    "    (\"pca\", best_estimator.named_steps[\"pca\"]),\n",
    "], memory=None)\n",
    "\n",
    "df_activities = pd.read_csv(\"./Data/HomoreDataFromVariousActivities/activities.csv\")\n",
    "\n",
    "cv = splitter.split(X, y, groups)\n",
    "for fold, split in enumerate(cv):\n",
    "    training_set, test_set = split\n",
    "    \n",
    "    # Spliting the to training and testing set\n",
    "    x_train, x_test = np.asarray(X)[training_set], np.asarray(X)[test_set]\n",
    "    y_train, y_test = np.asarray(y)[training_set], np.asarray(y)[test_set]\n",
    "    \n",
    "    visited = dict()\n",
    "    labels = list()\n",
    "    for yi_label in y_test:\n",
    "        if yi_label not in visited:\n",
    "            visited[yi_label] = True\n",
    "            labels.append(yi_label)\n",
    "    \n",
    "    print(x_test[0].shape)\n",
    "    # Transforming the test data to fit the model predictions\n",
    "    _, y_test_trans = transform_pipe.fit_transform(x_test, y_test)\n",
    "    \n",
    "    # Fiting the model\n",
    "    best_estimator.fit(x_train, y_train)\n",
    "    \n",
    "    # Predicting with trained model\n",
    "    y_pred = best_estimator.predict(x_test)\n",
    "    \n",
    "    # Printing accuracy score and confusion matrix\n",
    "    confusion_mat = confusion_matrix(y_test_trans, y_pred, labels=labels)\n",
    "    clf_accuracy = accuracy_score(y_test_trans, y_pred)\n",
    "    \n",
    "    # Select the right labels and order them correcly\n",
    "    labels_names = df_activities.loc[df_activities[\"ACTIVITY_ID\"].isin(labels)]\n",
    "    labels_names = labels_names.iloc[pd.Categorical(labels_names[\"ACTIVITY_ID\"], categories = labels, ordered=True).argsort()]\n",
    "    labels_names = labels_names[\"NAME\"].to_list()\n",
    "    plot_confusion_matrix(confusion_mat, labels_names, fold, normalize=True)\n",
    "    \n",
    "    print(clf_accuracy)\n",
    "    print(confusion_mat)"
   ]
  },
  {
   "cell_type": "markdown",
   "metadata": {},
   "source": [
    "# Dump and Load the model"
   ]
  },
  {
   "cell_type": "code",
   "execution_count": 24,
   "metadata": {},
   "outputs": [
    {
     "name": "stderr",
     "output_type": "stream",
     "text": [
      "/home/geo/.local/lib/python3.6/site-packages/seglearn/transform.py:238: VisibleDeprecationWarning: Creating an ndarray from ragged nested sequences (which is a list-or-tuple of lists-or-tuples-or ndarrays with different lengths or shapes) is deprecated. If you meant to do this, you must specify 'dtype=object' when creating the ndarray\n",
      "  for i in np.arange(N)])\n"
     ]
    }
   ],
   "source": [
    "best_estimator = best_estimator.fit(X, y)"
   ]
  },
  {
   "cell_type": "code",
   "execution_count": 25,
   "metadata": {},
   "outputs": [
    {
     "data": {
      "text/plain": [
       "['./Model/classifier.joblib']"
      ]
     },
     "execution_count": 25,
     "metadata": {},
     "output_type": "execute_result"
    }
   ],
   "source": [
    "model_path = './Model/classifier.joblib'\n",
    "dump(best_estimator, model_path) "
   ]
  },
  {
   "cell_type": "code",
   "execution_count": 26,
   "metadata": {},
   "outputs": [],
   "source": [
    "clf = load(model_path) "
   ]
  },
  {
   "cell_type": "code",
   "execution_count": 30,
   "metadata": {},
   "outputs": [],
   "source": [
    "dummy_data = np.random.rand(350, 6)\n",
    "dummy_data = [dummy_data]"
   ]
  },
  {
   "cell_type": "code",
   "execution_count": 31,
   "metadata": {},
   "outputs": [
    {
     "data": {
      "text/plain": [
       "array([102])"
      ]
     },
     "execution_count": 31,
     "metadata": {},
     "output_type": "execute_result"
    }
   ],
   "source": [
    "clf.predict(dummy_data)"
   ]
  },
  {
   "cell_type": "code",
   "execution_count": 29,
   "metadata": {},
   "outputs": [
    {
     "data": {
      "text/html": [
       "<div>\n",
       "<style scoped>\n",
       "    .dataframe tbody tr th:only-of-type {\n",
       "        vertical-align: middle;\n",
       "    }\n",
       "\n",
       "    .dataframe tbody tr th {\n",
       "        vertical-align: top;\n",
       "    }\n",
       "\n",
       "    .dataframe thead th {\n",
       "        text-align: right;\n",
       "    }\n",
       "</style>\n",
       "<table border=\"1\" class=\"dataframe\">\n",
       "  <thead>\n",
       "    <tr style=\"text-align: right;\">\n",
       "      <th></th>\n",
       "      <th>index</th>\n",
       "      <th>TIMESTAMP</th>\n",
       "      <th>ACCEL_X</th>\n",
       "      <th>ACCEL_Y</th>\n",
       "      <th>ACCEL_Z</th>\n",
       "      <th>GYRO_X</th>\n",
       "      <th>GYRO_Y</th>\n",
       "      <th>GYRO_Z</th>\n",
       "      <th>ACTIVITY_ID</th>\n",
       "      <th>USER_ID</th>\n",
       "    </tr>\n",
       "  </thead>\n",
       "  <tbody>\n",
       "    <tr>\n",
       "      <th>0</th>\n",
       "      <td>0</td>\n",
       "      <td>2020-08-25 16:23:14.590</td>\n",
       "      <td>-1.230657</td>\n",
       "      <td>5.430215</td>\n",
       "      <td>7.670058</td>\n",
       "      <td>-1.084472</td>\n",
       "      <td>0.181100</td>\n",
       "      <td>-0.076701</td>\n",
       "      <td>107</td>\n",
       "      <td>0</td>\n",
       "    </tr>\n",
       "    <tr>\n",
       "      <th>1</th>\n",
       "      <td>1</td>\n",
       "      <td>2020-08-25 16:23:14.690</td>\n",
       "      <td>-1.743032</td>\n",
       "      <td>4.716721</td>\n",
       "      <td>8.117788</td>\n",
       "      <td>-1.465848</td>\n",
       "      <td>0.301478</td>\n",
       "      <td>-0.136357</td>\n",
       "      <td>107</td>\n",
       "      <td>0</td>\n",
       "    </tr>\n",
       "    <tr>\n",
       "      <th>2</th>\n",
       "      <td>2</td>\n",
       "      <td>2020-08-25 16:23:14.790</td>\n",
       "      <td>-2.229070</td>\n",
       "      <td>4.455745</td>\n",
       "      <td>8.960572</td>\n",
       "      <td>-1.877052</td>\n",
       "      <td>0.394159</td>\n",
       "      <td>-0.137423</td>\n",
       "      <td>107</td>\n",
       "      <td>0</td>\n",
       "    </tr>\n",
       "    <tr>\n",
       "      <th>3</th>\n",
       "      <td>3</td>\n",
       "      <td>2020-08-25 16:23:14.890</td>\n",
       "      <td>-2.496031</td>\n",
       "      <td>3.766193</td>\n",
       "      <td>9.097046</td>\n",
       "      <td>-1.774784</td>\n",
       "      <td>0.359005</td>\n",
       "      <td>-0.070309</td>\n",
       "      <td>107</td>\n",
       "      <td>0</td>\n",
       "    </tr>\n",
       "    <tr>\n",
       "      <th>4</th>\n",
       "      <td>4</td>\n",
       "      <td>2020-08-25 16:23:14.990</td>\n",
       "      <td>-2.711515</td>\n",
       "      <td>2.225478</td>\n",
       "      <td>9.026415</td>\n",
       "      <td>-2.076263</td>\n",
       "      <td>0.344090</td>\n",
       "      <td>-0.100138</td>\n",
       "      <td>107</td>\n",
       "      <td>0</td>\n",
       "    </tr>\n",
       "    <tr>\n",
       "      <th>...</th>\n",
       "      <td>...</td>\n",
       "      <td>...</td>\n",
       "      <td>...</td>\n",
       "      <td>...</td>\n",
       "      <td>...</td>\n",
       "      <td>...</td>\n",
       "      <td>...</td>\n",
       "      <td>...</td>\n",
       "      <td>...</td>\n",
       "      <td>...</td>\n",
       "    </tr>\n",
       "    <tr>\n",
       "      <th>460795</th>\n",
       "      <td>34795</td>\n",
       "      <td>2021-01-27 22:59:23.371</td>\n",
       "      <td>-9.205986</td>\n",
       "      <td>-2.050695</td>\n",
       "      <td>2.369134</td>\n",
       "      <td>0.025567</td>\n",
       "      <td>0.003196</td>\n",
       "      <td>-0.022370</td>\n",
       "      <td>103</td>\n",
       "      <td>5</td>\n",
       "    </tr>\n",
       "    <tr>\n",
       "      <th>460796</th>\n",
       "      <td>34796</td>\n",
       "      <td>2021-01-27 22:59:23.471</td>\n",
       "      <td>-9.183240</td>\n",
       "      <td>-2.038725</td>\n",
       "      <td>2.359557</td>\n",
       "      <td>0.012783</td>\n",
       "      <td>0.000000</td>\n",
       "      <td>-0.025567</td>\n",
       "      <td>103</td>\n",
       "      <td>5</td>\n",
       "    </tr>\n",
       "    <tr>\n",
       "      <th>460797</th>\n",
       "      <td>34797</td>\n",
       "      <td>2021-01-27 22:59:23.571</td>\n",
       "      <td>-9.261054</td>\n",
       "      <td>-2.062667</td>\n",
       "      <td>2.359557</td>\n",
       "      <td>-0.021305</td>\n",
       "      <td>-0.006392</td>\n",
       "      <td>-0.010653</td>\n",
       "      <td>103</td>\n",
       "      <td>5</td>\n",
       "    </tr>\n",
       "    <tr>\n",
       "      <th>460798</th>\n",
       "      <td>34798</td>\n",
       "      <td>2021-01-27 22:59:23.671</td>\n",
       "      <td>-9.233520</td>\n",
       "      <td>-1.977671</td>\n",
       "      <td>2.330826</td>\n",
       "      <td>-0.013848</td>\n",
       "      <td>0.000000</td>\n",
       "      <td>-0.010653</td>\n",
       "      <td>103</td>\n",
       "      <td>5</td>\n",
       "    </tr>\n",
       "    <tr>\n",
       "      <th>460799</th>\n",
       "      <td>34799</td>\n",
       "      <td>2021-01-27 22:59:23.771</td>\n",
       "      <td>-9.207183</td>\n",
       "      <td>-2.103370</td>\n",
       "      <td>2.382303</td>\n",
       "      <td>-0.013848</td>\n",
       "      <td>0.000000</td>\n",
       "      <td>-0.010653</td>\n",
       "      <td>103</td>\n",
       "      <td>5</td>\n",
       "    </tr>\n",
       "  </tbody>\n",
       "</table>\n",
       "<p>460800 rows × 10 columns</p>\n",
       "</div>"
      ],
      "text/plain": [
       "        index               TIMESTAMP   ACCEL_X   ACCEL_Y   ACCEL_Z    GYRO_X  \\\n",
       "0           0 2020-08-25 16:23:14.590 -1.230657  5.430215  7.670058 -1.084472   \n",
       "1           1 2020-08-25 16:23:14.690 -1.743032  4.716721  8.117788 -1.465848   \n",
       "2           2 2020-08-25 16:23:14.790 -2.229070  4.455745  8.960572 -1.877052   \n",
       "3           3 2020-08-25 16:23:14.890 -2.496031  3.766193  9.097046 -1.774784   \n",
       "4           4 2020-08-25 16:23:14.990 -2.711515  2.225478  9.026415 -2.076263   \n",
       "...       ...                     ...       ...       ...       ...       ...   \n",
       "460795  34795 2021-01-27 22:59:23.371 -9.205986 -2.050695  2.369134  0.025567   \n",
       "460796  34796 2021-01-27 22:59:23.471 -9.183240 -2.038725  2.359557  0.012783   \n",
       "460797  34797 2021-01-27 22:59:23.571 -9.261054 -2.062667  2.359557 -0.021305   \n",
       "460798  34798 2021-01-27 22:59:23.671 -9.233520 -1.977671  2.330826 -0.013848   \n",
       "460799  34799 2021-01-27 22:59:23.771 -9.207183 -2.103370  2.382303 -0.013848   \n",
       "\n",
       "          GYRO_Y    GYRO_Z  ACTIVITY_ID  USER_ID  \n",
       "0       0.181100 -0.076701          107        0  \n",
       "1       0.301478 -0.136357          107        0  \n",
       "2       0.394159 -0.137423          107        0  \n",
       "3       0.359005 -0.070309          107        0  \n",
       "4       0.344090 -0.100138          107        0  \n",
       "...          ...       ...          ...      ...  \n",
       "460795  0.003196 -0.022370          103        5  \n",
       "460796  0.000000 -0.025567          103        5  \n",
       "460797 -0.006392 -0.010653          103        5  \n",
       "460798  0.000000 -0.010653          103        5  \n",
       "460799  0.000000 -0.010653          103        5  \n",
       "\n",
       "[460800 rows x 10 columns]"
      ]
     },
     "execution_count": 29,
     "metadata": {},
     "output_type": "execute_result"
    }
   ],
   "source": [
    "df_accel_gyro"
   ]
  },
  {
   "cell_type": "code",
   "execution_count": null,
   "metadata": {},
   "outputs": [],
   "source": []
  }
 ],
 "metadata": {
  "kernelspec": {
   "display_name": "Python 3",
   "language": "python",
   "name": "python3"
  },
  "language_info": {
   "codemirror_mode": {
    "name": "ipython",
    "version": 3
   },
   "file_extension": ".py",
   "mimetype": "text/x-python",
   "name": "python",
   "nbconvert_exporter": "python",
   "pygments_lexer": "ipython3",
   "version": "3.6.9"
  }
 },
 "nbformat": 4,
 "nbformat_minor": 4
}
