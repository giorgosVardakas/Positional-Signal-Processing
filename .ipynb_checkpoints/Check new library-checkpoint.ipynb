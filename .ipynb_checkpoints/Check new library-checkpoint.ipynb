{
 "cells": [
  {
   "cell_type": "code",
   "execution_count": 1,
   "metadata": {},
   "outputs": [
    {
     "name": "stderr",
     "output_type": "stream",
     "text": [
      "/home/geo/.local/lib/python3.6/site-packages/numba/np/ufunc/parallel.py:365: NumbaWarning: The TBB threading layer requires TBB version 2019.5 or later i.e., TBB_INTERFACE_VERSION >= 11005. Found TBB_INTERFACE_VERSION = 9107. The TBB threading layer is disabled.\n",
      "  warnings.warn(problem)\n"
     ]
    }
   ],
   "source": [
    "import numpy as np\n",
    "import pandas as pd\n",
    "\n",
    "from sklearn.model_selection import train_test_split\n",
    "from sklearn.pipeline import Pipeline\n",
    "\n",
    "from sktime.classification.compose import ColumnEnsembleClassifier\n",
    "from sktime.classification.dictionary_based import BOSSEnsemble\n",
    "from sktime.classification.interval_based import TimeSeriesForestClassifier\n",
    "from sktime.classification.shapelet_based import MrSEQLClassifier\n",
    "from sktime.datasets import load_basic_motions\n",
    "from sktime.transformations.panel.compose import ColumnConcatenator\n",
    "from seglearn.transform import Interp, Segment, patch_sampler, FeatureRep"
   ]
  },
  {
   "cell_type": "code",
   "execution_count": 2,
   "metadata": {},
   "outputs": [
    {
     "name": "stdout",
     "output_type": "stream",
     "text": [
      "(82,) (82,) (28,) (28,)\n"
     ]
    }
   ],
   "source": [
    "#X, y = load_basic_motions(return_X_y=True)\n",
    "\n",
    "X = np.load(\"./Data/Preprocessed_Data/data.npy\", allow_pickle=True)\n",
    "y = np.load(\"./Data/Preprocessed_Data/labels.npy\", allow_pickle=True)\n",
    "#X = pd.DataFrame(X)\n",
    "#y = pd.DataFrame(y)\n",
    "\n",
    "X_train, X_test, y_train, y_test = train_test_split(X, y, random_state=42)\n",
    "print(X_train.shape, y_train.shape, X_test.shape, y_test.shape)"
   ]
  },
  {
   "cell_type": "code",
   "execution_count": 3,
   "metadata": {},
   "outputs": [
    {
     "name": "stderr",
     "output_type": "stream",
     "text": [
      "/home/geo/.local/lib/python3.6/site-packages/seglearn/transform.py:238: VisibleDeprecationWarning: Creating an ndarray from ragged nested sequences (which is a list-or-tuple of lists-or-tuples-or ndarrays with different lengths or shapes) is deprecated. If you meant to do this, you must specify 'dtype=object' when creating the ndarray\n",
      "  for i in np.arange(N)])\n"
     ]
    }
   ],
   "source": [
    "#  multivariate input data\n",
    "segment = Segment(width=50,overlap=0.2)\n",
    "X_train, y_train, _ = segment.fit_transform(X_train, y_train)\n",
    "X_test, y_test, _ = segment.fit_transform(X_test, y_test)"
   ]
  },
  {
   "cell_type": "code",
   "execution_count": 4,
   "metadata": {},
   "outputs": [
    {
     "data": {
      "text/plain": [
       "array([[[-1.22467136e+00, -1.42578983e+00,  9.93983078e+00,\n",
       "         -7.13748932e-02,  4.15458679e-02, -5.21993637e-02],\n",
       "        [-1.18995380e+00, -1.40902996e+00,  9.93743706e+00,\n",
       "         -4.26111221e-02, -7.45677948e-03, -8.62884521e-02],\n",
       "        [-1.35635662e+00, -1.25100803e+00,  9.60463238e+00,\n",
       "         -6.81781769e-02, -5.32627106e-03, -8.09621811e-02],\n",
       "        ...,\n",
       "        [-8.57150269e+00, -1.17678547e+00, -4.54912186e-01,\n",
       "         -1.61924362e-01, -1.30924988e+00, -2.10396099e+00],\n",
       "        [-8.90311050e+00, -9.98412132e-01,  4.98008728e-01,\n",
       "          1.16116524e-01, -8.96979332e-01, -1.27196407e+00],\n",
       "        [-1.09909172e+01, -1.74063683e+00,  1.18516541e+00,\n",
       "         -5.43298721e-02, -4.36771393e-01,  2.66323090e-02]],\n",
       "\n",
       "       [[-9.51963615e+00, -2.80369568e+00,  8.84683609e-01,\n",
       "         -1.50419903e+00,  3.94159317e-01,  1.55320263e+00],\n",
       "        [-1.09885235e+01, -4.39469051e+00,  2.00520420e+00,\n",
       "         -1.83231068e+00,  7.53164291e-01,  1.98997402e+00],\n",
       "        [-1.30140800e+01, -3.50162601e+00,  1.76098824e+00,\n",
       "         -6.97769165e-01,  1.01842308e+00,  2.22646999e+00],\n",
       "        ...,\n",
       "        [-9.97095680e+00, -1.19234848e+00, -1.46050453e-01,\n",
       "         -2.35429764e-01, -3.38764191e-01, -8.41584206e-01],\n",
       "        [-1.09861288e+01, -1.92379951e+00,  1.22467136e+00,\n",
       "          1.98144913e-01,  4.82579231e-01,  7.12682724e-01],\n",
       "        [-1.06569166e+01, -2.34878254e+00,  1.68197727e+00,\n",
       "         -5.58215141e-01,  9.36395645e-01,  1.98997402e+00]],\n",
       "\n",
       "       [[-1.01205988e+01, -3.43458652e+00,  1.66521740e+00,\n",
       "         -2.76976585e-01,  4.06943321e-01,  3.45155716e-01],\n",
       "        [-1.30176716e+01, -3.16523075e+00,  3.25620651e-01,\n",
       "          9.16154861e-01,  3.77114296e-01, -3.21719170e-01],\n",
       "        [-1.09992971e+01, -3.83682442e+00, -2.69355774e-01,\n",
       "          6.38112068e-01, -3.19576263e-03, -7.84057617e-01],\n",
       "        ...,\n",
       "        [-8.16447639e+00,  1.10256290e+00,  4.36117077e+00,\n",
       "          2.58547497e+00,  1.73004150e+00, -2.53221035e+00],\n",
       "        [-8.35960960e+00,  2.51518536e+00,  4.20913410e+00,\n",
       "          1.49034977e+00,  2.03258610e+00, -1.40086460e+00],\n",
       "        [-1.23724136e+01, -1.29290771e+00,  3.24304485e+00,\n",
       "          5.96561432e-02,  2.03897762e+00,  6.66875839e-01]],\n",
       "\n",
       "       ...,\n",
       "\n",
       "       [[ 5.71633053e+00, -4.38151360e-01,  2.02555561e+00,\n",
       "          1.04505539e+00,  5.10276794e-01,  1.36677551e+00],\n",
       "        [ 6.43221855e+00, -1.15643406e+00,  1.28931618e+00,\n",
       "          5.26256561e-01,  5.52888870e-01,  1.98144913e-01],\n",
       "        [ 9.95299911e+00,  3.35198402e-01,  1.85316849e+00,\n",
       "         -2.23925400e+00, -3.38764191e-01,  8.73537064e-02],\n",
       "        ...,\n",
       "        [ 8.90311050e+00, -6.36877060e-01,  2.40744305e+00,\n",
       "         -1.25704765e-01, -1.26237679e+00, -1.88024902e+00],\n",
       "        [ 9.79497719e+00, -2.68158722e+00,  6.47770977e+00,\n",
       "          5.07081032e-01, -7.75535583e-01, -9.82203484e-01],\n",
       "        [ 7.88075447e+00,  4.62094307e-01,  4.41384506e+00,\n",
       "         -1.48608875e+00, -1.15051270e-01, -9.86464500e-01]],\n",
       "\n",
       "       [[ 1.18480682e+01, -3.59260845e+00,  5.51760578e+00,\n",
       "          5.27321815e-01,  7.09486961e-01,  2.45977020e+00],\n",
       "        [ 7.24268055e+00, -9.81652260e-01,  1.46409893e+00,\n",
       "          5.27321815e-01,  7.09486961e-01,  2.45977020e+00],\n",
       "        [ 7.24268055e+00, -9.81652260e-01,  1.46409893e+00,\n",
       "          5.27321815e-01,  7.09486961e-01,  2.45977020e+00],\n",
       "        ...,\n",
       "        [ 1.07598705e+01, -7.15888023e-01,  2.91622639e+00,\n",
       "         -5.64603806e-02,  1.07488441e+00,  2.91678238e+00],\n",
       "        [ 7.45577049e+00, -6.24905586e-01,  1.77655125e+00,\n",
       "          8.06428909e-01,  7.13748932e-01,  1.83231068e+00],\n",
       "        [ 8.70199108e+00, -3.11255455e-01,  1.84478855e+00,\n",
       "         -3.93094063e-01,  4.42097664e-01,  7.72339821e-01]],\n",
       "\n",
       "       [[ 9.98651886e+00, -6.89550400e-01,  3.70035076e+00,\n",
       "          1.47010803e-01, -1.26557255e+00, -1.50100327e+00],\n",
       "        [ 9.84645462e+00, -3.60338211e-01,  4.42102814e+00,\n",
       "         -8.56498718e-01, -6.98834419e-01, -1.67997265e+00],\n",
       "        [ 6.64291477e+00,  1.06544495e-01,  3.50521755e+00,\n",
       "         -1.71406269e+00, -2.02398300e-02, -1.95375443e+00],\n",
       "        ...,\n",
       "        [ 8.38115788e+00, -2.01119041e+00,  4.60897827e+00,\n",
       "         -2.32234001e-01, -7.77664185e-02, -1.75773621e-01],\n",
       "        [ 1.05791025e+01, -2.41462517e+00,  5.36317444e+00,\n",
       "          1.29433537e+00,  4.82579231e-01,  9.17220116e-01],\n",
       "        [ 1.03420687e+01, -2.20632362e+00,  3.90625858e+00,\n",
       "          1.44986820e+00,  9.97117043e-01,  1.75454330e+00]]])"
      ]
     },
     "execution_count": 4,
     "metadata": {},
     "output_type": "execute_result"
    }
   ],
   "source": [
    "X_train"
   ]
  },
  {
   "cell_type": "code",
   "execution_count": 5,
   "metadata": {},
   "outputs": [
    {
     "data": {
      "text/plain": [
       "array([101, 102, 103, 104, 105, 106, 107, 115])"
      ]
     },
     "execution_count": 5,
     "metadata": {},
     "output_type": "execute_result"
    }
   ],
   "source": [
    "# multi-class target variable\n",
    "np.unique(y_train)"
   ]
  },
  {
   "cell_type": "code",
   "execution_count": null,
   "metadata": {},
   "outputs": [],
   "source": [
    "steps = [\n",
    "    (\"concatenate\", ColumnConcatenator()),\n",
    "    (\"classify\", TimeSeriesForestClassifier(n_estimators=100)),\n",
    "]\n",
    "clf = Pipeline(steps)\n",
    "clf.fit(X_train, y_train)\n",
    "clf.score(X_test, y_test)"
   ]
  },
  {
   "cell_type": "code",
   "execution_count": 14,
   "metadata": {},
   "outputs": [
    {
     "data": {
      "text/plain": [
       "0.95"
      ]
     },
     "execution_count": 14,
     "metadata": {},
     "output_type": "execute_result"
    }
   ],
   "source": [
    "clf = ColumnEnsembleClassifier(\n",
    "    estimators=[\n",
    "        (\"TSF0\", TimeSeriesForestClassifier(n_estimators=100), [0]),\n",
    "        (\"BOSSEnsemble3\", BOSSEnsemble(max_ensemble_size=5), [3]),\n",
    "    ]\n",
    ")\n",
    "clf.fit(X_train, y_train)\n",
    "clf.score(X_test, y_test)"
   ]
  },
  {
   "cell_type": "code",
   "execution_count": 15,
   "metadata": {},
   "outputs": [
    {
     "data": {
      "text/plain": [
       "1.0"
      ]
     },
     "execution_count": 15,
     "metadata": {},
     "output_type": "execute_result"
    }
   ],
   "source": [
    "clf = MrSEQLClassifier()\n",
    "clf.fit(X_train, y_train)\n",
    "clf.score(X_test, y_test)"
   ]
  },
  {
   "cell_type": "code",
   "execution_count": null,
   "metadata": {},
   "outputs": [],
   "source": []
  }
 ],
 "metadata": {
  "kernelspec": {
   "display_name": "Python 3",
   "language": "python",
   "name": "python3"
  },
  "language_info": {
   "codemirror_mode": {
    "name": "ipython",
    "version": 3
   },
   "file_extension": ".py",
   "mimetype": "text/x-python",
   "name": "python",
   "nbconvert_exporter": "python",
   "pygments_lexer": "ipython3",
   "version": "3.6.9"
  }
 },
 "nbformat": 4,
 "nbformat_minor": 4
}
