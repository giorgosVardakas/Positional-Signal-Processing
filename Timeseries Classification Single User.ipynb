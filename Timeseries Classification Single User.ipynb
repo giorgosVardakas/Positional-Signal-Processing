{
 "cells": [
  {
   "cell_type": "markdown",
   "metadata": {},
   "source": [
    "# Import Libraries\n"
   ]
  },
  {
   "cell_type": "code",
   "execution_count": 1,
   "metadata": {},
   "outputs": [],
   "source": [
    "import numpy as np\n",
    "import pandas as pd\n",
    "\n",
    "from seglearn.pipe import Pype\n",
    "from seglearn.transform import Interp, Segment, patch_sampler, FeatureRep\n",
    "from seglearn.feature_functions import base_features, all_features, hudgins_features, emg_features\n",
    "from seglearn.datasets import load_watch\n",
    "\n",
    "from sklearn.base import BaseEstimator, TransformerMixin\n",
    "from sklearn.ensemble import RandomForestClassifier\n",
    "from sklearn.svm import SVC\n",
    "from sklearn.neural_network import MLPClassifier\n",
    "from sklearn.decomposition import PCA\n",
    "from sklearn.preprocessing import StandardScaler, RobustScaler, MinMaxScaler, FunctionTransformer, PolynomialFeatures\n",
    "from sklearn.model_selection import GridSearchCV, GroupKFold, KFold, cross_validate \n",
    "from sklearn.metrics import confusion_matrix, plot_confusion_matrix, accuracy_score, make_scorer, f1_score, accuracy_score\n",
    "from sklearn.linear_model import LogisticRegression\n",
    "\n",
    "from imblearn.under_sampling import RandomUnderSampler\n",
    "from imblearn.over_sampling import RandomOverSampler\n",
    "\n",
    "import matplotlib.pyplot as plt\n",
    "\n",
    "import random\n",
    "import itertools\n",
    "\n",
    "from joblib import dump, load\n",
    "#%matplotlib notebook"
   ]
  },
  {
   "cell_type": "markdown",
   "metadata": {},
   "source": [
    "# Importand paths"
   ]
  },
  {
   "cell_type": "code",
   "execution_count": 2,
   "metadata": {},
   "outputs": [],
   "source": [
    "graphs_path = \"./Graphs/\""
   ]
  },
  {
   "cell_type": "markdown",
   "metadata": {},
   "source": [
    "## Loading the Data"
   ]
  },
  {
   "cell_type": "code",
   "execution_count": 3,
   "metadata": {},
   "outputs": [],
   "source": [
    "df_data = pd.read_csv(\"./Data/Preprocessed_Data/Data.csv\")\n",
    "df_data.drop(columns=[\"Unnamed: 0\", \"index\"], inplace=True)"
   ]
  },
  {
   "cell_type": "markdown",
   "metadata": {},
   "source": [
    "## Select the user"
   ]
  },
  {
   "cell_type": "code",
   "execution_count": 4,
   "metadata": {},
   "outputs": [],
   "source": [
    "SELECTED_USER_ID = 6\n",
    "df_data = df_data.loc[df_data[\"USER_ID\"] == SELECTED_USER_ID]\n",
    "X = df_data[[\"ACCEL_X\", \"ACCEL_Y\", \"ACCEL_Z\", \"GYRO_X\", \"GYRO_Y\", \"GYRO_Z\"]].to_numpy()\n",
    "y = df_data[\"ACTIVITY_ID\"].to_numpy()\n",
    "X = [X]\n",
    "y = [y]\n",
    "del df_data\n",
    "\n",
    "# from construction it can not cross validate with the whole timeseries\n",
    "segment = Segment(width=50, overlap=0.5, shuffle=True)\n",
    "X = segment.fit_transform(X, y)\n",
    "y = X[1]\n",
    "X = X[0]"
   ]
  },
  {
   "cell_type": "markdown",
   "metadata": {},
   "source": [
    "# Defining the features and the pipeline"
   ]
  },
  {
   "cell_type": "code",
   "execution_count": 5,
   "metadata": {},
   "outputs": [
    {
     "name": "stderr",
     "output_type": "stream",
     "text": [
      "/home/geo/.local/lib/python3.8/site-packages/sklearn/utils/validation.py:70: FutureWarning: Pass memory=None as keyword args. From version 1.0 (renaming of 0.25) passing these as positional arguments will result in an error\n",
      "  warnings.warn(f\"Pass {args_msg} as keyword args. From version \"\n"
     ]
    }
   ],
   "source": [
    "f1_scorer = make_scorer(f1_score, average=\"macro\")\n",
    "accuracy_scorer = make_scorer(accuracy_score)\n",
    "\n",
    "pipeline = Pype([\n",
    "    (\"features\", FeatureRep(features = {**base_features(), **emg_features()})),\n",
    "    (\"scaler\", RobustScaler(quantile_range=[15.0, 85.0])),\n",
    "    (\"pca\", PCA()),\n",
    "    #(\"rf\", RandomForestClassifier(criterion=\"gini\"))\n",
    "    (\"lr\",  LogisticRegression(multi_class='multinomial', max_iter=1000))\n",
    "], accuracy_scorer, memory=None)"
   ]
  },
  {
   "cell_type": "markdown",
   "metadata": {},
   "source": [
    "## Hyperparameter tuning"
   ]
  },
  {
   "cell_type": "code",
   "execution_count": 6,
   "metadata": {
    "scrolled": true
   },
   "outputs": [
    {
     "name": "stdout",
     "output_type": "stream",
     "text": [
      "GridSearchCV best clf score: 0.95\n",
      "Pype(scorer=make_scorer(accuracy_score),\n",
      "     steps=[('features',\n",
      "             FeatureRep(features={'abs_energy': <function abs_energy at 0x7f0ef68d5af0>,\n",
      "                                  'emg_var': <function emg_var at 0x7f0ef68b7a60>,\n",
      "                                  'integrated_emg': <function abs_sum at 0x7f0ef68d5a60>,\n",
      "                                  'kurt': <function kurt at 0x7f0ef68d5f70>,\n",
      "                                  'max': <function maximum at 0x7f0ef68d5e50>,\n",
      "                                  'mean': <function mean at 0x7f0ef68d5790>,\n",
      "                                  'mean_abs...\n",
      "                                  'var': <function var at 0x7f0ef68d5c10>,\n",
      "                                  'waveform_length': <function waveform_length at 0x7f0ef68b7550>,\n",
      "                                  'willison_amplitude': willison_amplitude(threshold=0),\n",
      "                                  'zero_crossings': zero_crossing(threshold=0)})),\n",
      "            ('scaler', RobustScaler(quantile_range=[15.0, 85.0])),\n",
      "            ('pca', PCA(n_components=60)),\n",
      "            ('lr',\n",
      "             LogisticRegression(C=0.1, max_iter=1000,\n",
      "                                multi_class='multinomial'))])\n"
     ]
    }
   ],
   "source": [
    "splitter = KFold(n_splits=10) \n",
    "cv = splitter.split(X, y)\n",
    "\n",
    "parameters_grid = {\"pca__n_components\": [60],\n",
    "                   \"lr__C\": [0.1]}\n",
    "\n",
    "# scoring does not work withing the current framework \n",
    "grid_search = GridSearchCV(pipeline, parameters_grid, cv=cv, n_jobs=-1)\n",
    "grid_search.fit(X, y)\n",
    "\n",
    "print(\"GridSearchCV best clf score: %.2f\" % (grid_search.best_score_))\n",
    "print(grid_search.best_estimator_)"
   ]
  },
  {
   "cell_type": "code",
   "execution_count": 7,
   "metadata": {},
   "outputs": [
    {
     "name": "stderr",
     "output_type": "stream",
     "text": [
      "/home/geo/.local/lib/python3.8/site-packages/sklearn/utils/validation.py:70: FutureWarning: Pass memory=None as keyword args. From version 1.0 (renaming of 0.25) passing these as positional arguments will result in an error\n",
      "  warnings.warn(f\"Pass {args_msg} as keyword args. From version \"\n"
     ]
    },
    {
     "data": {
      "text/plain": [
       "fit_time      0.324810\n",
       "score_time    0.008836\n",
       "test_score    0.948925\n",
       "dtype: float64"
      ]
     },
     "execution_count": 7,
     "metadata": {},
     "output_type": "execute_result"
    }
   ],
   "source": [
    "best_estimator = grid_search.best_estimator_\n",
    "\n",
    "cv = splitter.split(X, y)\n",
    "cv_scores = cross_validate(best_estimator, X, y, cv=cv, n_jobs=-1)\n",
    "\n",
    "\n",
    "cv_scores_df = pd.DataFrame(cv_scores)\n",
    "cv_scores_df.mean()"
   ]
  },
  {
   "cell_type": "markdown",
   "metadata": {},
   "source": [
    "# Dump and Load the model"
   ]
  },
  {
   "cell_type": "code",
   "execution_count": 8,
   "metadata": {},
   "outputs": [],
   "source": [
    "# Dump the model\n",
    "#best_estimator = best_estimator.fit(X, y)\n",
    "#model_path = './Model/classifier.joblib'\n",
    "#dump(best_estimator, model_path) "
   ]
  },
  {
   "cell_type": "code",
   "execution_count": 9,
   "metadata": {},
   "outputs": [],
   "source": [
    "# Load the model\n",
    "#clf = load(model_path)\n",
    "#dummy_data = np.random.rand(150, 6)\n",
    "#dummy_data = [dummy_data]\n",
    "#pred = clf.predict(dummy_data)\n",
    "#pred"
   ]
  }
 ],
 "metadata": {
  "kernelspec": {
   "display_name": "Python 3",
   "language": "python",
   "name": "python3"
  },
  "language_info": {
   "codemirror_mode": {
    "name": "ipython",
    "version": 3
   },
   "file_extension": ".py",
   "mimetype": "text/x-python",
   "name": "python",
   "nbconvert_exporter": "python",
   "pygments_lexer": "ipython3",
   "version": "3.8.6"
  }
 },
 "nbformat": 4,
 "nbformat_minor": 4
}
