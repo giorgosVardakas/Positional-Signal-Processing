{
 "cells": [
  {
   "cell_type": "code",
   "execution_count": 1,
   "metadata": {},
   "outputs": [],
   "source": [
    "import pandas as pd\n",
    "import numpy as np"
   ]
  },
  {
   "cell_type": "code",
   "execution_count": 2,
   "metadata": {},
   "outputs": [],
   "source": [
    "accelerometer_data = pd.read_csv(\"./Vagelis_Accelerometer.csv\")\n",
    "gyroscope_data = pd.read_csv(\"./Vagelis_Gyroscope.csv\")\n",
    "heartrate_data = pd.read_csv(\"./Vagelis_HeartRate.csv\")\n",
    "activities = pd.read_csv(\"./activities.csv\")"
   ]
  },
  {
   "cell_type": "code",
   "execution_count": 3,
   "metadata": {},
   "outputs": [
    {
     "data": {
      "text/plain": [
       "107    1200\n",
       "102    1200\n",
       "104    1200\n",
       "115     600\n",
       "103     600\n",
       "106     600\n",
       "105     600\n",
       "101     600\n",
       "Name: activityid, dtype: int64"
      ]
     },
     "execution_count": 3,
     "metadata": {},
     "output_type": "execute_result"
    }
   ],
   "source": [
    "accelerometer_data[\"activityid\"].value_counts()"
   ]
  },
  {
   "cell_type": "code",
   "execution_count": 4,
   "metadata": {},
   "outputs": [],
   "source": [
    "chosen_activities = [102, 103, 104, 105, 106, 107]\n",
    "def create_df_accel_gyro(accelerometer_data, gyroscope_data, chosen_activities):\n",
    "    accelerometer_data = accelerometer_data.loc[accelerometer_data[\"activityid\"].isin(chosen_activities)]\n",
    "    gyroscope_data = gyroscope_data.loc[gyroscope_data[\"activityid\"].isin(chosen_activities)]\n",
    "    accelerometer_data.reset_index(inplace=True)\n",
    "    gyroscope_data.reset_index(inplace=True)\n",
    "    df_accel_gyro = pd.DataFrame(accelerometer_data[[\"time\", \"sensordatax\", \"sensordatay\", \"sensordataz\"]])\n",
    "    df_accel_gyro.rename(columns={\"time\":\"TIMESTAMP\",\"sensordatax\": \"ACCEL_X\", \"sensordatay\" : \"ACCEL_Y\", \"sensordataz\" : \"ACCEL_Z\"}, inplace=True)\n",
    "    df_accel_gyro[\"GYRO_X\"] = gyroscope_data[\"sensordatax\"]\n",
    "    df_accel_gyro[\"GYRO_Y\"] = gyroscope_data[\"sensordatay\"]\n",
    "    df_accel_gyro[\"GYRO_Z\"] = gyroscope_data[\"sensordataz\"]\n",
    "    df_accel_gyro[\"ACTIVITY_ID\"] = gyroscope_data[\"activityid\"]\n",
    "    return df_accel_gyro"
   ]
  },
  {
   "cell_type": "code",
   "execution_count": 5,
   "metadata": {},
   "outputs": [],
   "source": [
    "df_accel_gyro = create_df_accel_gyro(accelerometer_data, gyroscope_data, chosen_activities)\n",
    "df_accel_gyro[\"TIMESTAMP\"] = pd.to_datetime(df_accel_gyro[\"TIMESTAMP\"])\n",
    "df_accel_gyro = df_accel_gyro.sort_values(by=\"TIMESTAMP\") "
   ]
  },
  {
   "cell_type": "code",
   "execution_count": 6,
   "metadata": {},
   "outputs": [],
   "source": [
    "df_accel_gyro.to_csv(\"./accel_gyro.csv\", index=False)"
   ]
  },
  {
   "cell_type": "code",
   "execution_count": null,
   "metadata": {},
   "outputs": [],
   "source": [
    "\n"
   ]
  },
  {
   "cell_type": "code",
   "execution_count": null,
   "metadata": {},
   "outputs": [],
   "source": []
  }
 ],
 "metadata": {
  "kernelspec": {
   "display_name": "Python 3",
   "language": "python",
   "name": "python3"
  },
  "language_info": {
   "codemirror_mode": {
    "name": "ipython",
    "version": 3
   },
   "file_extension": ".py",
   "mimetype": "text/x-python",
   "name": "python",
   "nbconvert_exporter": "python",
   "pygments_lexer": "ipython3",
   "version": "3.8.6"
  }
 },
 "nbformat": 4,
 "nbformat_minor": 4
}
