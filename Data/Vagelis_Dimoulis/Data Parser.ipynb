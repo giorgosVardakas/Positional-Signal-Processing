{
 "cells": [
  {
   "cell_type": "code",
   "execution_count": 5,
   "metadata": {},
   "outputs": [],
   "source": [
    "import pandas as pd\n",
    "import numpy as np"
   ]
  },
  {
   "cell_type": "code",
   "execution_count": 6,
   "metadata": {},
   "outputs": [],
   "source": [
    "accelerometer_data = pd.read_csv(\"./Vagelis_Accelerometer.csv\")\n",
    "gyroscope_data = pd.read_csv(\"./Vagelis_Gyroscope.csv\")\n",
    "heartrate_data = pd.read_csv(\"./Vagelis_HeartRate.csv\")\n",
    "activities = pd.read_csv(\"./activities.csv\")"
   ]
  },
  {
   "cell_type": "code",
   "execution_count": 7,
   "metadata": {},
   "outputs": [
    {
     "data": {
      "text/html": [
       "<div>\n",
       "<style scoped>\n",
       "    .dataframe tbody tr th:only-of-type {\n",
       "        vertical-align: middle;\n",
       "    }\n",
       "\n",
       "    .dataframe tbody tr th {\n",
       "        vertical-align: top;\n",
       "    }\n",
       "\n",
       "    .dataframe thead th {\n",
       "        text-align: right;\n",
       "    }\n",
       "</style>\n",
       "<table border=\"1\" class=\"dataframe\">\n",
       "  <thead>\n",
       "    <tr style=\"text-align: right;\">\n",
       "      <th></th>\n",
       "      <th>ACTIVITY_ID</th>\n",
       "      <th>NAME</th>\n",
       "    </tr>\n",
       "  </thead>\n",
       "  <tbody>\n",
       "    <tr>\n",
       "      <th>0</th>\n",
       "      <td>101</td>\n",
       "      <td>jogging</td>\n",
       "    </tr>\n",
       "    <tr>\n",
       "      <th>1</th>\n",
       "      <td>102</td>\n",
       "      <td>walking</td>\n",
       "    </tr>\n",
       "    <tr>\n",
       "      <th>2</th>\n",
       "      <td>103</td>\n",
       "      <td>standing</td>\n",
       "    </tr>\n",
       "    <tr>\n",
       "      <th>3</th>\n",
       "      <td>104</td>\n",
       "      <td>sitting</td>\n",
       "    </tr>\n",
       "    <tr>\n",
       "      <th>4</th>\n",
       "      <td>105</td>\n",
       "      <td>stairs</td>\n",
       "    </tr>\n",
       "    <tr>\n",
       "      <th>5</th>\n",
       "      <td>106</td>\n",
       "      <td>brushing teeth</td>\n",
       "    </tr>\n",
       "    <tr>\n",
       "      <th>6</th>\n",
       "      <td>107</td>\n",
       "      <td>eating</td>\n",
       "    </tr>\n",
       "    <tr>\n",
       "      <th>7</th>\n",
       "      <td>108</td>\n",
       "      <td>eating with fingers</td>\n",
       "    </tr>\n",
       "    <tr>\n",
       "      <th>8</th>\n",
       "      <td>109</td>\n",
       "      <td>drinking from cup</td>\n",
       "    </tr>\n",
       "    <tr>\n",
       "      <th>9</th>\n",
       "      <td>110</td>\n",
       "      <td>writing</td>\n",
       "    </tr>\n",
       "    <tr>\n",
       "      <th>10</th>\n",
       "      <td>111</td>\n",
       "      <td>lifting weight</td>\n",
       "    </tr>\n",
       "    <tr>\n",
       "      <th>11</th>\n",
       "      <td>112</td>\n",
       "      <td>folding clothes</td>\n",
       "    </tr>\n",
       "    <tr>\n",
       "      <th>12</th>\n",
       "      <td>113</td>\n",
       "      <td>having bath</td>\n",
       "    </tr>\n",
       "    <tr>\n",
       "      <th>13</th>\n",
       "      <td>114</td>\n",
       "      <td>washing plates</td>\n",
       "    </tr>\n",
       "    <tr>\n",
       "      <th>14</th>\n",
       "      <td>115</td>\n",
       "      <td>lying on</td>\n",
       "    </tr>\n",
       "  </tbody>\n",
       "</table>\n",
       "</div>"
      ],
      "text/plain": [
       "    ACTIVITY_ID                 NAME\n",
       "0           101              jogging\n",
       "1           102              walking\n",
       "2           103             standing\n",
       "3           104              sitting\n",
       "4           105               stairs\n",
       "5           106       brushing teeth\n",
       "6           107               eating\n",
       "7           108  eating with fingers\n",
       "8           109    drinking from cup\n",
       "9           110              writing\n",
       "10          111       lifting weight\n",
       "11          112      folding clothes\n",
       "12          113          having bath\n",
       "13          114       washing plates\n",
       "14          115             lying on"
      ]
     },
     "execution_count": 7,
     "metadata": {},
     "output_type": "execute_result"
    }
   ],
   "source": [
    "activities"
   ]
  },
  {
   "cell_type": "code",
   "execution_count": 8,
   "metadata": {},
   "outputs": [
    {
     "data": {
      "text/plain": [
       "103    4800\n",
       "104    4200\n",
       "107    3600\n",
       "102    3600\n",
       "115    2400\n",
       "106    1800\n",
       "105     600\n",
       "101     600\n",
       "Name: activityid, dtype: int64"
      ]
     },
     "execution_count": 8,
     "metadata": {},
     "output_type": "execute_result"
    }
   ],
   "source": [
    "accelerometer_data[\"activityid\"].value_counts()"
   ]
  },
  {
   "cell_type": "code",
   "execution_count": 9,
   "metadata": {},
   "outputs": [],
   "source": [
    "chosen_activities = [101, 102, 103, 104, 105, 106, 107]\n",
    "def create_df_accel_gyro(accelerometer_data, gyroscope_data, chosen_activities):\n",
    "    accelerometer_data = accelerometer_data.loc[accelerometer_data[\"activityid\"].isin(chosen_activities)]\n",
    "    gyroscope_data = gyroscope_data.loc[gyroscope_data[\"activityid\"].isin(chosen_activities)]\n",
    "    accelerometer_data.reset_index(inplace=True)\n",
    "    gyroscope_data.reset_index(inplace=True)\n",
    "    df_accel_gyro = pd.DataFrame(accelerometer_data[[\"time\", \"sensordatax\", \"sensordatay\", \"sensordataz\"]])\n",
    "    df_accel_gyro.rename(columns={\"time\":\"TIMESTAMP\",\"sensordatax\": \"ACCEL_X\", \"sensordatay\" : \"ACCEL_Y\", \"sensordataz\" : \"ACCEL_Z\"}, inplace=True)\n",
    "    df_accel_gyro[\"GYRO_X\"] = gyroscope_data[\"sensordatax\"]\n",
    "    df_accel_gyro[\"GYRO_Y\"] = gyroscope_data[\"sensordatay\"]\n",
    "    df_accel_gyro[\"GYRO_Z\"] = gyroscope_data[\"sensordataz\"]\n",
    "    df_accel_gyro[\"ACTIVITY_ID\"] = gyroscope_data[\"activityid\"]\n",
    "    return df_accel_gyro"
   ]
  },
  {
   "cell_type": "code",
   "execution_count": 10,
   "metadata": {},
   "outputs": [],
   "source": [
    "df_accel_gyro = create_df_accel_gyro(accelerometer_data, gyroscope_data, chosen_activities)\n",
    "df_accel_gyro[\"TIMESTAMP\"] = pd.to_datetime(df_accel_gyro[\"TIMESTAMP\"])\n",
    "df_accel_gyro = df_accel_gyro.sort_values(by=\"TIMESTAMP\") "
   ]
  },
  {
   "cell_type": "code",
   "execution_count": 11,
   "metadata": {},
   "outputs": [],
   "source": [
    "df_accel_gyro.to_csv(\"./accel_gyro.csv\", index=False)"
   ]
  },
  {
   "cell_type": "code",
   "execution_count": null,
   "metadata": {},
   "outputs": [],
   "source": [
    "\n"
   ]
  },
  {
   "cell_type": "code",
   "execution_count": null,
   "metadata": {},
   "outputs": [],
   "source": []
  }
 ],
 "metadata": {
  "kernelspec": {
   "display_name": "Python 3",
   "language": "python",
   "name": "python3"
  },
  "language_info": {
   "codemirror_mode": {
    "name": "ipython",
    "version": 3
   },
   "file_extension": ".py",
   "mimetype": "text/x-python",
   "name": "python",
   "nbconvert_exporter": "python",
   "pygments_lexer": "ipython3",
   "version": "3.8.6"
  }
 },
 "nbformat": 4,
 "nbformat_minor": 4
}
