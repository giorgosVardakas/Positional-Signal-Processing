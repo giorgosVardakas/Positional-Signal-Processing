{
 "cells": [
  {
   "cell_type": "code",
   "execution_count": 1,
   "metadata": {},
   "outputs": [],
   "source": [
    "import numpy as np\n",
    "import pandas as pd"
   ]
  },
  {
   "cell_type": "markdown",
   "metadata": {},
   "source": [
    "# Importing the Data"
   ]
  },
  {
   "cell_type": "code",
   "execution_count": 2,
   "metadata": {},
   "outputs": [],
   "source": [
    "FB_data_path = \"./Fanis_Balaskas/accel_gyro.csv\"\n",
    "GV_data_path = \"./George_Vardakas/accel_gyro_Geo.csv\"\n",
    "ΤT_data_path = \"./George_Vardakas/accel_gyro_Ted.csv\"\n",
    "GP_data_path = \"./George_Vardakas/accel_gyro_Gregory.csv\"\n",
    "BRO_data_path = \"./George_Vardakas/accel_gyro_Bro.csv\"\n",
    "VD_data_path = \"./Vagelis_Dimoulis/accel_gyro.csv\"\n",
    "EUH_data_path = \"./George_Vardakas/accel_gyro_Euh.csv\"\n",
    "\n",
    "df_FB_accel_gyro = pd.read_csv(FB_data_path)\n",
    "df_GV_accel_gyro = pd.read_csv(GV_data_path)\n",
    "df_TT_accel_gyro = pd.read_csv(ΤT_data_path)\n",
    "df_GP_accel_gyro = pd.read_csv(GP_data_path)\n",
    "df_BRO_accel_gyro = pd.read_csv(BRO_data_path)\n",
    "df_VD_accel_gyro = pd.read_csv(VD_data_path)\n",
    "df_EUH_accel_gyro = pd.read_csv(EUH_data_path)"
   ]
  },
  {
   "cell_type": "code",
   "execution_count": 3,
   "metadata": {},
   "outputs": [],
   "source": [
    "# Den exw ta ms gia na spasw to shma se kathgories\n",
    "datetime_format = \"%Y-%m-%d %H:%M:%S.%f\"\n",
    "df_FB_accel_gyro[\"TIMESTAMP\"] = pd.to_datetime(df_FB_accel_gyro[\"TIMESTAMP\"])#, format=datetime_format)\n",
    "df_GV_accel_gyro[\"TIMESTAMP\"] = pd.to_datetime(df_GV_accel_gyro[\"TIMESTAMP\"])#, format=datetime_format)\n",
    "df_TT_accel_gyro[\"TIMESTAMP\"] = pd.to_datetime(df_TT_accel_gyro[\"TIMESTAMP\"])\n",
    "df_GP_accel_gyro[\"TIMESTAMP\"] = pd.to_datetime(df_GP_accel_gyro[\"TIMESTAMP\"])\n",
    "df_BRO_accel_gyro[\"TIMESTAMP\"] = pd.to_datetime(df_BRO_accel_gyro[\"TIMESTAMP\"])\n",
    "df_VD_accel_gyro[\"TIMESTAMP\"] = pd.to_datetime(df_VD_accel_gyro[\"TIMESTAMP\"])\n",
    "df_EUH_accel_gyro[\"TIMESTAMP\"] = pd.to_datetime(df_EUH_accel_gyro[\"TIMESTAMP\"])"
   ]
  },
  {
   "cell_type": "markdown",
   "metadata": {},
   "source": [
    "## Find when activity changes"
   ]
  },
  {
   "cell_type": "code",
   "execution_count": 4,
   "metadata": {},
   "outputs": [],
   "source": [
    "# Sampling frequency of accelerometer and gyroscope (10 Hz)\n",
    "sampling_frequency = df_FB_accel_gyro.loc[1, \"TIMESTAMP\"] - df_FB_accel_gyro.loc[0, \"TIMESTAMP\"]\n",
    "\n",
    "# Finding the indexs where the samples differ more than sampling frequency\n",
    "df_FB_activity_cutoff = df_FB_accel_gyro.loc[df_FB_accel_gyro[\"TIMESTAMP\"] - df_FB_accel_gyro[\"TIMESTAMP\"].shift() > sampling_frequency]\n",
    "df_GV_activity_cutoff = df_GV_accel_gyro.loc[df_GV_accel_gyro[\"TIMESTAMP\"] - df_GV_accel_gyro[\"TIMESTAMP\"].shift() > sampling_frequency]\n",
    "df_TT_activity_cutoff = df_TT_accel_gyro.loc[df_TT_accel_gyro[\"TIMESTAMP\"] - df_TT_accel_gyro[\"TIMESTAMP\"].shift() > sampling_frequency]\n",
    "df_GP_activity_cutoff = df_GP_accel_gyro.loc[df_GP_accel_gyro[\"TIMESTAMP\"] - df_GP_accel_gyro[\"TIMESTAMP\"].shift() > sampling_frequency]\n",
    "df_BRO_activity_cutoff = df_BRO_accel_gyro.loc[df_BRO_accel_gyro[\"TIMESTAMP\"] - df_BRO_accel_gyro[\"TIMESTAMP\"].shift() > sampling_frequency]\n",
    "df_VD_activity_cutoff = df_VD_accel_gyro.loc[df_VD_accel_gyro[\"TIMESTAMP\"] - df_VD_accel_gyro[\"TIMESTAMP\"].shift() > sampling_frequency]\n",
    "df_EUH_activity_cutoff = df_EUH_accel_gyro.loc[df_EUH_accel_gyro[\"TIMESTAMP\"] - df_EUH_accel_gyro[\"TIMESTAMP\"].shift() > sampling_frequency]"
   ]
  },
  {
   "cell_type": "markdown",
   "metadata": {},
   "source": [
    "## Graphs"
   ]
  },
  {
   "cell_type": "code",
   "execution_count": 5,
   "metadata": {},
   "outputs": [],
   "source": [
    "#ax = df_GV_accel_gyro[[\"ACTIVITY_ID\", \"ACCEL_X\", \"ACCEL_Y\", \"ACCEL_Z\"]].plot(figsize = (15, 8))\n",
    "#ax.vlines(df_GV_activity_cutoff.index, ymin=-20, ymax=120)"
   ]
  },
  {
   "cell_type": "code",
   "execution_count": 6,
   "metadata": {},
   "outputs": [],
   "source": [
    "#ax = df_FB_accel_gyro[[\"ACTIVITY_ID\", \"ACCEL_X\", \"ACCEL_Y\", \"ACCEL_Z\"]].plot(figsize = (15, 8))\n",
    "#ax.vlines(df_FB_activity_cutoff.index, ymin=-20, ymax=120)"
   ]
  },
  {
   "cell_type": "code",
   "execution_count": 7,
   "metadata": {},
   "outputs": [],
   "source": [
    "#ax = df_VD_accel_gyro[[\"ACTIVITY_ID\", \"ACCEL_X\", \"ACCEL_Y\", \"ACCEL_Z\"]].plot(figsize = (15, 8))\n",
    "#ax.vlines(df_VD_activity_cutoff.index, ymin=-20, ymax=120)"
   ]
  },
  {
   "cell_type": "code",
   "execution_count": 8,
   "metadata": {},
   "outputs": [],
   "source": [
    "#ax = df_TT_accel_gyro[[\"ACTIVITY_ID\", \"ACCEL_X\", \"ACCEL_Y\", \"ACCEL_Z\"]].plot(figsize = (15, 8))\n",
    "#ax.vlines(df_TT_activity_cutoff.index, ymin=-20, ymax=120)"
   ]
  },
  {
   "cell_type": "code",
   "execution_count": 9,
   "metadata": {},
   "outputs": [],
   "source": [
    "#ax = df_GP_accel_gyro[[\"ACTIVITY_ID\", \"ACCEL_X\", \"ACCEL_Y\", \"ACCEL_Z\"]].plot(figsize = (15, 8))\n",
    "#ax.vlines(df_GP_activity_cutoff.index, ymin=-20, ymax=120)"
   ]
  },
  {
   "cell_type": "code",
   "execution_count": 10,
   "metadata": {},
   "outputs": [],
   "source": [
    "#ax = df_BRO_accel_gyro[[\"ACTIVITY_ID\", \"ACCEL_X\", \"ACCEL_Y\", \"ACCEL_Z\"]].plot(figsize = (15, 8))\n",
    "#ax.vlines(df_BRO_activity_cutoff.index, ymin=-20, ymax=120)"
   ]
  },
  {
   "cell_type": "code",
   "execution_count": 11,
   "metadata": {},
   "outputs": [],
   "source": [
    "#ax = df_EUH_accel_gyro[[\"ACTIVITY_ID\", \"ACCEL_X\", \"ACCEL_Y\", \"ACCEL_Z\"]].plot(figsize = (15, 8))\n",
    "#ax.vlines(df_EUH_activity_cutoff.index, ymin=-20, ymax=120)"
   ]
  },
  {
   "cell_type": "markdown",
   "metadata": {},
   "source": [
    "## Making one dataframe for all users"
   ]
  },
  {
   "cell_type": "code",
   "execution_count": 12,
   "metadata": {},
   "outputs": [],
   "source": [
    "# Giving an id for each user\n",
    "df_FB_accel_gyro[\"USER_ID\"] = 0\n",
    "df_GV_accel_gyro[\"USER_ID\"] = 1\n",
    "df_VD_accel_gyro[\"USER_ID\"] = 2\n",
    "df_TT_accel_gyro[\"USER_ID\"] = 3\n",
    "df_GP_accel_gyro[\"USER_ID\"] = 4\n",
    "df_BRO_accel_gyro[\"USER_ID\"] = 5\n",
    "df_EUH_accel_gyro[\"USER_ID\"] = 6\n",
    "\n",
    "# making one dataframe\n",
    "df_accel_gyro = df_FB_accel_gyro.append(df_GV_accel_gyro)\n",
    "df_accel_gyro = df_accel_gyro.append(df_VD_accel_gyro)\n",
    "df_accel_gyro = df_accel_gyro.append(df_TT_accel_gyro)\n",
    "df_accel_gyro = df_accel_gyro.append(df_GP_accel_gyro)\n",
    "df_accel_gyro = df_accel_gyro.append(df_BRO_accel_gyro)\n",
    "df_accel_gyro = df_accel_gyro.append(df_EUH_accel_gyro)\n",
    "df_accel_gyro.reset_index(inplace=True)\n",
    "df_accel_gyro.drop([\"index\"], axis=\"columns\", inplace=True)\n",
    "del df_FB_accel_gyro, df_GV_accel_gyro, df_VD_accel_gyro, df_TT_accel_gyro, df_GP_accel_gyro, df_EUH_accel_gyro"
   ]
  },
  {
   "cell_type": "code",
   "execution_count": 13,
   "metadata": {},
   "outputs": [
    {
     "data": {
      "text/html": [
       "<div>\n",
       "<style scoped>\n",
       "    .dataframe tbody tr th:only-of-type {\n",
       "        vertical-align: middle;\n",
       "    }\n",
       "\n",
       "    .dataframe tbody tr th {\n",
       "        vertical-align: top;\n",
       "    }\n",
       "\n",
       "    .dataframe thead th {\n",
       "        text-align: right;\n",
       "    }\n",
       "</style>\n",
       "<table border=\"1\" class=\"dataframe\">\n",
       "  <thead>\n",
       "    <tr style=\"text-align: right;\">\n",
       "      <th></th>\n",
       "      <th>TIMESTAMP</th>\n",
       "      <th>ACCEL_X</th>\n",
       "      <th>ACCEL_Y</th>\n",
       "      <th>ACCEL_Z</th>\n",
       "      <th>GYRO_X</th>\n",
       "      <th>GYRO_Y</th>\n",
       "      <th>GYRO_Z</th>\n",
       "      <th>ACTIVITY_ID</th>\n",
       "      <th>USER_ID</th>\n",
       "    </tr>\n",
       "  </thead>\n",
       "  <tbody>\n",
       "    <tr>\n",
       "      <th>0</th>\n",
       "      <td>2020-08-25 16:23:14.590</td>\n",
       "      <td>-1.230657</td>\n",
       "      <td>5.430215</td>\n",
       "      <td>7.670058</td>\n",
       "      <td>-1.084472</td>\n",
       "      <td>0.181100</td>\n",
       "      <td>-0.076701</td>\n",
       "      <td>107</td>\n",
       "      <td>0</td>\n",
       "    </tr>\n",
       "    <tr>\n",
       "      <th>1</th>\n",
       "      <td>2020-08-25 16:23:14.690</td>\n",
       "      <td>-1.743032</td>\n",
       "      <td>4.716721</td>\n",
       "      <td>8.117788</td>\n",
       "      <td>-1.465848</td>\n",
       "      <td>0.301478</td>\n",
       "      <td>-0.136357</td>\n",
       "      <td>107</td>\n",
       "      <td>0</td>\n",
       "    </tr>\n",
       "    <tr>\n",
       "      <th>2</th>\n",
       "      <td>2020-08-25 16:23:14.790</td>\n",
       "      <td>-2.229070</td>\n",
       "      <td>4.455745</td>\n",
       "      <td>8.960572</td>\n",
       "      <td>-1.877052</td>\n",
       "      <td>0.394159</td>\n",
       "      <td>-0.137423</td>\n",
       "      <td>107</td>\n",
       "      <td>0</td>\n",
       "    </tr>\n",
       "    <tr>\n",
       "      <th>3</th>\n",
       "      <td>2020-08-25 16:23:14.890</td>\n",
       "      <td>-2.496031</td>\n",
       "      <td>3.766193</td>\n",
       "      <td>9.097046</td>\n",
       "      <td>-1.774784</td>\n",
       "      <td>0.359005</td>\n",
       "      <td>-0.070309</td>\n",
       "      <td>107</td>\n",
       "      <td>0</td>\n",
       "    </tr>\n",
       "    <tr>\n",
       "      <th>4</th>\n",
       "      <td>2020-08-25 16:23:14.990</td>\n",
       "      <td>-2.711515</td>\n",
       "      <td>2.225478</td>\n",
       "      <td>9.026415</td>\n",
       "      <td>-2.076263</td>\n",
       "      <td>0.344090</td>\n",
       "      <td>-0.100138</td>\n",
       "      <td>107</td>\n",
       "      <td>0</td>\n",
       "    </tr>\n",
       "    <tr>\n",
       "      <th>...</th>\n",
       "      <td>...</td>\n",
       "      <td>...</td>\n",
       "      <td>...</td>\n",
       "      <td>...</td>\n",
       "      <td>...</td>\n",
       "      <td>...</td>\n",
       "      <td>...</td>\n",
       "      <td>...</td>\n",
       "      <td>...</td>\n",
       "    </tr>\n",
       "    <tr>\n",
       "      <th>489595</th>\n",
       "      <td>2021-03-07 16:27:34.281</td>\n",
       "      <td>-2.233858</td>\n",
       "      <td>-6.383136</td>\n",
       "      <td>9.694418</td>\n",
       "      <td>8.220896</td>\n",
       "      <td>-4.834317</td>\n",
       "      <td>1.776915</td>\n",
       "      <td>106</td>\n",
       "      <td>6</td>\n",
       "    </tr>\n",
       "    <tr>\n",
       "      <th>489596</th>\n",
       "      <td>2021-03-07 16:27:34.381</td>\n",
       "      <td>-1.625712</td>\n",
       "      <td>0.611736</td>\n",
       "      <td>11.438647</td>\n",
       "      <td>2.172140</td>\n",
       "      <td>-2.306367</td>\n",
       "      <td>2.551386</td>\n",
       "      <td>106</td>\n",
       "      <td>6</td>\n",
       "    </tr>\n",
       "    <tr>\n",
       "      <th>489597</th>\n",
       "      <td>2021-03-07 16:27:34.481</td>\n",
       "      <td>-1.426988</td>\n",
       "      <td>3.131711</td>\n",
       "      <td>7.817307</td>\n",
       "      <td>0.971550</td>\n",
       "      <td>-1.068492</td>\n",
       "      <td>1.793960</td>\n",
       "      <td>106</td>\n",
       "      <td>6</td>\n",
       "    </tr>\n",
       "    <tr>\n",
       "      <th>489598</th>\n",
       "      <td>2021-03-07 16:27:34.581</td>\n",
       "      <td>0.022745</td>\n",
       "      <td>5.057905</td>\n",
       "      <td>8.141730</td>\n",
       "      <td>-0.002131</td>\n",
       "      <td>-0.062852</td>\n",
       "      <td>0.778731</td>\n",
       "      <td>106</td>\n",
       "      <td>6</td>\n",
       "    </tr>\n",
       "    <tr>\n",
       "      <th>489599</th>\n",
       "      <td>2021-03-07 16:27:34.681</td>\n",
       "      <td>1.680780</td>\n",
       "      <td>3.814079</td>\n",
       "      <td>9.793780</td>\n",
       "      <td>-0.970485</td>\n",
       "      <td>0.450620</td>\n",
       "      <td>-0.804298</td>\n",
       "      <td>106</td>\n",
       "      <td>6</td>\n",
       "    </tr>\n",
       "  </tbody>\n",
       "</table>\n",
       "<p>489600 rows × 9 columns</p>\n",
       "</div>"
      ],
      "text/plain": [
       "                     TIMESTAMP   ACCEL_X   ACCEL_Y    ACCEL_Z    GYRO_X  \\\n",
       "0      2020-08-25 16:23:14.590 -1.230657  5.430215   7.670058 -1.084472   \n",
       "1      2020-08-25 16:23:14.690 -1.743032  4.716721   8.117788 -1.465848   \n",
       "2      2020-08-25 16:23:14.790 -2.229070  4.455745   8.960572 -1.877052   \n",
       "3      2020-08-25 16:23:14.890 -2.496031  3.766193   9.097046 -1.774784   \n",
       "4      2020-08-25 16:23:14.990 -2.711515  2.225478   9.026415 -2.076263   \n",
       "...                        ...       ...       ...        ...       ...   \n",
       "489595 2021-03-07 16:27:34.281 -2.233858 -6.383136   9.694418  8.220896   \n",
       "489596 2021-03-07 16:27:34.381 -1.625712  0.611736  11.438647  2.172140   \n",
       "489597 2021-03-07 16:27:34.481 -1.426988  3.131711   7.817307  0.971550   \n",
       "489598 2021-03-07 16:27:34.581  0.022745  5.057905   8.141730 -0.002131   \n",
       "489599 2021-03-07 16:27:34.681  1.680780  3.814079   9.793780 -0.970485   \n",
       "\n",
       "          GYRO_Y    GYRO_Z  ACTIVITY_ID  USER_ID  \n",
       "0       0.181100 -0.076701          107        0  \n",
       "1       0.301478 -0.136357          107        0  \n",
       "2       0.394159 -0.137423          107        0  \n",
       "3       0.359005 -0.070309          107        0  \n",
       "4       0.344090 -0.100138          107        0  \n",
       "...          ...       ...          ...      ...  \n",
       "489595 -4.834317  1.776915          106        6  \n",
       "489596 -2.306367  2.551386          106        6  \n",
       "489597 -1.068492  1.793960          106        6  \n",
       "489598 -0.062852  0.778731          106        6  \n",
       "489599  0.450620 -0.804298          106        6  \n",
       "\n",
       "[489600 rows x 9 columns]"
      ]
     },
     "execution_count": 13,
     "metadata": {},
     "output_type": "execute_result"
    }
   ],
   "source": [
    "df_accel_gyro"
   ]
  },
  {
   "cell_type": "markdown",
   "metadata": {},
   "source": [
    "## Merge low activity categories"
   ]
  },
  {
   "cell_type": "code",
   "execution_count": 14,
   "metadata": {},
   "outputs": [],
   "source": [
    "# replace 104 sitting with 115 lying on\n",
    "# replace standing sitting with 115 lying on\n",
    "\n",
    "#df_accel_gyro[\"ACTIVITY_ID\"].replace(104, 115, inplace=True)\n",
    "#df_accel_gyro[\"ACTIVITY_ID\"].replace(103, 115, inplace=True)"
   ]
  },
  {
   "cell_type": "markdown",
   "metadata": {},
   "source": [
    "## Creating the data for the learning process"
   ]
  },
  {
   "cell_type": "code",
   "execution_count": 15,
   "metadata": {},
   "outputs": [],
   "source": [
    "sampling_frequency = df_accel_gyro.loc[1, \"TIMESTAMP\"] - df_accel_gyro.loc[0, \"TIMESTAMP\"]\n",
    "# Finding the indexs where the samples differ more than sampling frequency\n",
    "activities = df_accel_gyro.loc[df_accel_gyro['TIMESTAMP'] - df_accel_gyro['TIMESTAMP'].shift() > sampling_frequency]\n",
    "# To include the last activity to the end\n",
    "activities = activities.append(df_accel_gyro.iloc[-1])\n",
    "\n",
    "# Constracting the data exactly how the seglearn needs it\n",
    "# Data must be list(np.arrays)\n",
    "# list() -> single multivariate time series\n",
    "# X[0].shape -> (n_samples, n_variables)\n",
    "# n_samples is how many data points we have in time we have\n",
    "# n_variables is how many sensors we have\n",
    "\n",
    "# I do not include the moment where activity changes\n",
    "X = list()\n",
    "y = list()\n",
    "groups = list()\n",
    "low_index = 0\n",
    "\n",
    "# Use this to throw some samples or not?\n",
    "samples_to_throw = 10\n",
    "\n",
    "for i, high_index in enumerate(activities.index):\n",
    "    low_index += samples_to_throw\n",
    "    high_index -= samples_to_throw\n",
    "    data = df_accel_gyro[[\"ACCEL_X\",\"ACCEL_Y\", \"ACCEL_Z\", \"GYRO_X\", \"GYRO_Y\", \"GYRO_Z\"]].iloc[low_index : high_index]\n",
    "    data = data.to_numpy()\n",
    "    labels = df_accel_gyro[\"ACTIVITY_ID\"].iloc[low_index]\n",
    "    user_id = df_accel_gyro[\"USER_ID\"].iloc[low_index]\n",
    "    \n",
    "    X.append(data)\n",
    "    y.append(labels)\n",
    "    groups.append(user_id)\n",
    "    \n",
    "    #print(low_index, mid_index, high_index)\n",
    "    low_index = high_index"
   ]
  },
  {
   "cell_type": "code",
   "execution_count": 16,
   "metadata": {},
   "outputs": [],
   "source": [
    "#ax = df_accel_gyro[[\"ACCEL_X\",\"ACCEL_Y\", \"ACCEL_Z\", \"GYRO_X\", \"GYRO_Y\", \"GYRO_Z\", \"ACTIVITY_ID\", \"USER_ID\"]].plot(figsize=(15,8))\n",
    "#ax.vlines(activities.index, ymin=-20, ymax=120)"
   ]
  },
  {
   "cell_type": "markdown",
   "metadata": {},
   "source": [
    "## Saving the preprocessed data"
   ]
  },
  {
   "cell_type": "code",
   "execution_count": 17,
   "metadata": {},
   "outputs": [
    {
     "name": "stderr",
     "output_type": "stream",
     "text": [
      "/home/geo/.local/lib/python3.8/site-packages/numpy/core/_asarray.py:136: VisibleDeprecationWarning: Creating an ndarray from ragged nested sequences (which is a list-or-tuple of lists-or-tuples-or ndarrays with different lengths or shapes) is deprecated. If you meant to do this, you must specify 'dtype=object' when creating the ndarray\n",
      "  return array(a, dtype, copy=False, order=order, subok=True)\n"
     ]
    }
   ],
   "source": [
    "np.save(\"data\", X)\n",
    "np.save(\"labels\", y)\n",
    "np.save(\"groups\", groups)"
   ]
  },
  {
   "cell_type": "code",
   "execution_count": 19,
   "metadata": {},
   "outputs": [
    {
     "data": {
      "text/html": [
       "<div>\n",
       "<style scoped>\n",
       "    .dataframe tbody tr th:only-of-type {\n",
       "        vertical-align: middle;\n",
       "    }\n",
       "\n",
       "    .dataframe tbody tr th {\n",
       "        vertical-align: top;\n",
       "    }\n",
       "\n",
       "    .dataframe thead th {\n",
       "        text-align: right;\n",
       "    }\n",
       "</style>\n",
       "<table border=\"1\" class=\"dataframe\">\n",
       "  <thead>\n",
       "    <tr style=\"text-align: right;\">\n",
       "      <th></th>\n",
       "      <th>TIMESTAMP</th>\n",
       "      <th>ACCEL_X</th>\n",
       "      <th>ACCEL_Y</th>\n",
       "      <th>ACCEL_Z</th>\n",
       "      <th>GYRO_X</th>\n",
       "      <th>GYRO_Y</th>\n",
       "      <th>GYRO_Z</th>\n",
       "      <th>ACTIVITY_ID</th>\n",
       "      <th>USER_ID</th>\n",
       "    </tr>\n",
       "  </thead>\n",
       "  <tbody>\n",
       "    <tr>\n",
       "      <th>0</th>\n",
       "      <td>2020-08-25 16:23:14.590</td>\n",
       "      <td>-1.230657</td>\n",
       "      <td>5.430215</td>\n",
       "      <td>7.670058</td>\n",
       "      <td>-1.084472</td>\n",
       "      <td>0.181100</td>\n",
       "      <td>-0.076701</td>\n",
       "      <td>107</td>\n",
       "      <td>0</td>\n",
       "    </tr>\n",
       "    <tr>\n",
       "      <th>1</th>\n",
       "      <td>2020-08-25 16:23:14.690</td>\n",
       "      <td>-1.743032</td>\n",
       "      <td>4.716721</td>\n",
       "      <td>8.117788</td>\n",
       "      <td>-1.465848</td>\n",
       "      <td>0.301478</td>\n",
       "      <td>-0.136357</td>\n",
       "      <td>107</td>\n",
       "      <td>0</td>\n",
       "    </tr>\n",
       "    <tr>\n",
       "      <th>2</th>\n",
       "      <td>2020-08-25 16:23:14.790</td>\n",
       "      <td>-2.229070</td>\n",
       "      <td>4.455745</td>\n",
       "      <td>8.960572</td>\n",
       "      <td>-1.877052</td>\n",
       "      <td>0.394159</td>\n",
       "      <td>-0.137423</td>\n",
       "      <td>107</td>\n",
       "      <td>0</td>\n",
       "    </tr>\n",
       "    <tr>\n",
       "      <th>3</th>\n",
       "      <td>2020-08-25 16:23:14.890</td>\n",
       "      <td>-2.496031</td>\n",
       "      <td>3.766193</td>\n",
       "      <td>9.097046</td>\n",
       "      <td>-1.774784</td>\n",
       "      <td>0.359005</td>\n",
       "      <td>-0.070309</td>\n",
       "      <td>107</td>\n",
       "      <td>0</td>\n",
       "    </tr>\n",
       "    <tr>\n",
       "      <th>4</th>\n",
       "      <td>2020-08-25 16:23:14.990</td>\n",
       "      <td>-2.711515</td>\n",
       "      <td>2.225478</td>\n",
       "      <td>9.026415</td>\n",
       "      <td>-2.076263</td>\n",
       "      <td>0.344090</td>\n",
       "      <td>-0.100138</td>\n",
       "      <td>107</td>\n",
       "      <td>0</td>\n",
       "    </tr>\n",
       "  </tbody>\n",
       "</table>\n",
       "</div>"
      ],
      "text/plain": [
       "                TIMESTAMP   ACCEL_X   ACCEL_Y   ACCEL_Z    GYRO_X    GYRO_Y  \\\n",
       "0 2020-08-25 16:23:14.590 -1.230657  5.430215  7.670058 -1.084472  0.181100   \n",
       "1 2020-08-25 16:23:14.690 -1.743032  4.716721  8.117788 -1.465848  0.301478   \n",
       "2 2020-08-25 16:23:14.790 -2.229070  4.455745  8.960572 -1.877052  0.394159   \n",
       "3 2020-08-25 16:23:14.890 -2.496031  3.766193  9.097046 -1.774784  0.359005   \n",
       "4 2020-08-25 16:23:14.990 -2.711515  2.225478  9.026415 -2.076263  0.344090   \n",
       "\n",
       "     GYRO_Z  ACTIVITY_ID  USER_ID  \n",
       "0 -0.076701          107        0  \n",
       "1 -0.136357          107        0  \n",
       "2 -0.137423          107        0  \n",
       "3 -0.070309          107        0  \n",
       "4 -0.100138          107        0  "
      ]
     },
     "execution_count": 19,
     "metadata": {},
     "output_type": "execute_result"
    }
   ],
   "source": [
    "df_accel_gyro.head()"
   ]
  },
  {
   "cell_type": "code",
   "execution_count": null,
   "metadata": {},
   "outputs": [],
   "source": []
  }
 ],
 "metadata": {
  "kernelspec": {
   "display_name": "Python 3",
   "language": "python",
   "name": "python3"
  },
  "language_info": {
   "codemirror_mode": {
    "name": "ipython",
    "version": 3
   },
   "file_extension": ".py",
   "mimetype": "text/x-python",
   "name": "python",
   "nbconvert_exporter": "python",
   "pygments_lexer": "ipython3",
   "version": "3.8.6"
  }
 },
 "nbformat": 4,
 "nbformat_minor": 4
}
